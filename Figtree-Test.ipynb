{
 "cells": [
  {
   "cell_type": "code",
   "execution_count": 126,
   "metadata": {
    "collapsed": false
   },
   "outputs": [],
   "source": [
    "import numpy as np\n",
    "from pyfigtree import figtree\n",
    "from sklearn import preprocessing"
   ]
  },
  {
   "cell_type": "code",
   "execution_count": 127,
   "metadata": {
    "collapsed": true
   },
   "outputs": [],
   "source": [
    "def direct_evaluation(S,T,weights,delta):\n",
    "    checkPot = []\n",
    "    for target in T:\n",
    "        # for each source, add to potential at current target\n",
    "        #s_index = np.any(S != target,axis=1)\n",
    "        #S = S[s_index]\n",
    "        #weights = weights[s_index]\n",
    "        diff = target-S\n",
    "        norm = np.linalg.norm(diff, axis=1)\n",
    "        up = (norm / delta)**2\n",
    "        potential = np.exp(-up)*weights\n",
    "        \n",
    "        cum_potential = np.sum(potential)\n",
    "        checkPot.append(cum_potential)\n",
    "    return np.array(checkPot)"
   ]
  },
  {
   "cell_type": "code",
   "execution_count": 128,
   "metadata": {
    "collapsed": false
   },
   "outputs": [],
   "source": [
    "delta = 1\n",
    "\n",
    "\n",
    "#Direct Evaluation Test with sphere data\n",
    "X = np.loadtxt('data/sphere_x.txt')\n",
    "Y = np.loadtxt('data/sphere_y.txt')\n",
    "Z = np.loadtxt('data/sphere_z.txt')\n",
    "\n",
    "X0 = np.dstack((X,Y,Z))[0]\n",
    "\n",
    "X = np.loadtxt('data/alpha0_x.txt')\n",
    "Y = np.loadtxt('data/alpha0_y.txt')\n",
    "Z = np.loadtxt('data/alpha0_z.txt')\n",
    "\n",
    "alpha0 = np.dstack((X,Y,Z))[0]\n",
    "weights = alpha0"
   ]
  },
  {
   "cell_type": "code",
   "execution_count": 149,
   "metadata": {
    "collapsed": false
   },
   "outputs": [],
   "source": [
    "#Calculating direct Evaluation\n",
    "cp0_x = direct_evaluation(X0, X0, alpha0[:,0], delta)\n",
    "cp0_y = direct_evaluation(X0, X0, alpha0[:,1], delta)\n",
    "cp0_z = direct_evaluation(X0, X0, alpha0[:,2], delta)\n",
    "cp0 = np.dstack([cp0_x,cp0_y, cp0_z])[0"
   ]
  },
  {
   "cell_type": "code",
   "execution_count": 150,
   "metadata": {
    "collapsed": false
   },
   "outputs": [],
   "source": [
    "cp_x = figtree(X0,X0,alpha0[:,0], delta,epsilon=1e-16, eval=\"auto\")\n",
    "cp_y = figtree(X0,X0,alpha0[:,1], delta,epsilon=1e-16, eval=\"auto\")\n",
    "cp_z = figtree(X0,X0,alpha0[:,2], delta,epsilon=1e-16, eval=\"auto\")\n",
    "cp = np.dstack([cp_x,cp_y, cp_z])[0]"
   ]
  },
  {
   "cell_type": "code",
   "execution_count": 154,
   "metadata": {
    "collapsed": false
   },
   "outputs": [
    {
     "data": {
      "text/plain": [
       "4.2453886568789216e-13"
      ]
     },
     "execution_count": 154,
     "metadata": {},
     "output_type": "execute_result"
    }
   ],
   "source": [
    "np.sum(abs(cp - cp0))"
   ]
  },
  {
   "cell_type": "code",
   "execution_count": null,
   "metadata": {
    "collapsed": true
   },
   "outputs": [],
   "source": []
  }
 ],
 "metadata": {
  "kernelspec": {
   "display_name": "Python 2",
   "language": "python",
   "name": "python2"
  },
  "language_info": {
   "codemirror_mode": {
    "name": "ipython",
    "version": 2
   },
   "file_extension": ".py",
   "mimetype": "text/x-python",
   "name": "python",
   "nbconvert_exporter": "python",
   "pygments_lexer": "ipython2",
   "version": "2.7.10"
  }
 },
 "nbformat": 4,
 "nbformat_minor": 0
}
