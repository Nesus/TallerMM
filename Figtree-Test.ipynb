{
 "cells": [
  {
   "cell_type": "code",
   "execution_count": 1,
   "metadata": {
    "collapsed": false
   },
   "outputs": [],
   "source": [
    "import numpy as np\n",
    "from pyfigtree import figtree\n",
    "from sklearn import preprocessing"
   ]
  },
  {
   "cell_type": "code",
   "execution_count": 2,
   "metadata": {
    "collapsed": true
   },
   "outputs": [],
   "source": [
    "def direct_evaluation(S,T,weights,delta):\n",
    "    checkPot = []\n",
    "    for target in T:\n",
    "        # for each source, add to potential at current target\n",
    "        diff = target-S\n",
    "        norm = np.linalg.norm(diff, axis=1)\n",
    "        up = (norm / delta)**2\n",
    "        potential = np.exp(-up)*weights\n",
    "        \n",
    "        cum_potential = np.sum(potential)\n",
    "        checkPot.append(cum_potential)\n",
    "    return np.array(checkPot)"
   ]
  },
  {
   "cell_type": "code",
   "execution_count": 3,
   "metadata": {
    "collapsed": false
   },
   "outputs": [],
   "source": [
    "delta = 1\n",
    "\n",
    "\n",
    "#Direct Evaluation Test with sphere data\n",
    "X = np.loadtxt('data/sphere_x.txt')\n",
    "Y = np.loadtxt('data/sphere_y.txt')\n",
    "Z = np.loadtxt('data/sphere_z.txt')\n",
    "\n",
    "X0 = np.dstack((X,Y,Z))[0]\n",
    "\n",
    "X = np.loadtxt('data/alpha0_x.txt')\n",
    "Y = np.loadtxt('data/alpha0_y.txt')\n",
    "Z = np.loadtxt('data/alpha0_z.txt')\n",
    "\n",
    "alpha0 = np.dstack((X,Y,Z))[0]\n",
    "weights = alpha0"
   ]
  },
  {
   "cell_type": "code",
   "execution_count": 4,
   "metadata": {
    "collapsed": false
   },
   "outputs": [],
   "source": [
    "#Calculating direct Evaluation\n",
    "cp0_x = direct_evaluation(X0, X0, alpha0[:,0], delta)\n",
    "cp0_y = direct_evaluation(X0, X0, alpha0[:,1], delta)\n",
    "cp0_z = direct_evaluation(X0, X0, alpha0[:,2], delta)\n",
    "cp0 = np.dstack([cp0_x,cp0_y, cp0_z])[0]"
   ]
  },
  {
   "cell_type": "code",
   "execution_count": 5,
   "metadata": {
    "collapsed": false
   },
   "outputs": [],
   "source": [
    "cp_x = figtree(X0,X0,alpha0[:,0], delta,epsilon=1e-16, eval=\"auto\")\n",
    "cp_y = figtree(X0,X0,alpha0[:,1], delta,epsilon=1e-16, eval=\"auto\")\n",
    "cp_z = figtree(X0,X0,alpha0[:,2], delta,epsilon=1e-16, eval=\"auto\")\n",
    "cp = np.dstack([cp_x,cp_y, cp_z])[0]"
   ]
  },
  {
   "cell_type": "markdown",
   "metadata": {},
   "source": [
    "# Impl"
   ]
  },
  {
   "cell_type": "code",
   "execution_count": 33,
   "metadata": {
    "collapsed": true
   },
   "outputs": [],
   "source": [
    "def position(X,alpha,delata):\n",
    "    X_x = figtree(X,X,alpha[:,0], delta,epsilon=1e-16, eval=\"auto\")\n",
    "    X_y = figtree(X,X,alpha[:,1], delta,epsilon=1e-16, eval=\"auto\")\n",
    "    X_z = figtree(X,X,alpha[:,2], delta,epsilon=1e-16, eval=\"auto\") \n",
    "    return np.dstack([X_x,X_y, X_z])[0]"
   ]
  },
  {
   "cell_type": "code",
   "execution_count": 34,
   "metadata": {
    "collapsed": false
   },
   "outputs": [],
   "source": [
    "def momentum(X,alpha,delta):\n",
    "    ax = alpha[:,0]\n",
    "    ay = alpha[:,1]\n",
    "    az = alpha[:,2]\n",
    "    \n",
    "    first_weights = np.dstack([ax * X[:,0], ax * X[:,1], ax * X[:,2]])[0]\n",
    "    second_weights = np.dstack([ay * X[:,0], ay * X[:,1], ay * X[:,2]])[0]\n",
    "    third_weights = np.dstack([az * X[:,0], az * X[:,1], az * X[:,2]])[0]\n",
    "    \n",
    "    first_sum_x = figtree(X,X,first_weights[:,0],delta, epsilon=1e-16, eval=\"auto\")\n",
    "    first_sum_y = figtree(X,X,first_weights[:,1],delta, epsilon=1e-16, eval=\"auto\")\n",
    "    first_sum_z = figtree(X,X,first_weights[:,2],delta, epsilon=1e-16, eval=\"auto\")\n",
    "    \n",
    "    \n",
    "    second_sum_x = figtree(X,X,second_weights[:,0],delta, epsilon=1e-16, eval=\"auto\")\n",
    "    second_sum_y = figtree(X,X,second_weights[:,1],delta, epsilon=1e-16, eval=\"auto\")\n",
    "    second_sum_z = figtree(X,X,second_weights[:,2],delta, epsilon=1e-16, eval=\"auto\")\n",
    "    \n",
    "    \n",
    "    third_sum_x = figtree(X,X,third_weights[:,0],delta, epsilon=1e-16, eval=\"auto\")\n",
    "    third_sum_y = figtree(X,X,third_weights[:,1],delta, epsilon=1e-16, eval=\"auto\")\n",
    "    third_sum_z = figtree(X,X,third_weights[:,2],delta, epsilon=1e-16, eval=\"auto\")\n",
    "    \n",
    "    fourth_sum = figtree(X,X,ax,delta, epsilon=1e-16, eval=\"auto\")\n",
    "    fifth_sum = figtree(X,X,ay,delta, epsilon=1e-16, eval=\"auto\")\n",
    "    sixth_sum = figtree(X,X,az,delta, epsilon=1e-16, eval=\"auto\")\n",
    "    \n",
    "    second_term = fourth_sum + fifth_sum + sixth_sum\n",
    "    \n",
    "    second_term_x = X[:,0] * second_term\n",
    "    second_term_y = X[:,1] * second_term\n",
    "    second_term_z = X[:,2] * second_term\n",
    "    \n",
    "    result_x = ax* first_sum_x + ay * second_sum_x + az * third_sum_x - (second_term_x) \n",
    "    result_y = ax* first_sum_y + ay * second_sum_y + az * third_sum_y - (second_term_y) \n",
    "    result_z = ax* first_sum_z + ay * second_sum_z + az * third_sum_z - (second_term_z)\n",
    "    result = np.dstack([result_x,result_y,result_z])[0]\n",
    "    \n",
    "    return result"
   ]
  },
  {
   "cell_type": "code",
   "execution_count": 35,
   "metadata": {
    "collapsed": true
   },
   "outputs": [],
   "source": [
    "postition1 = position(X0,alpha0,1)\n",
    "momentum1 = momentum(X0,alpha0,1)"
   ]
  },
  {
   "cell_type": "code",
   "execution_count": null,
   "metadata": {
    "collapsed": true
   },
   "outputs": [],
   "source": []
  }
 ],
 "metadata": {
  "kernelspec": {
   "display_name": "Python 2",
   "language": "python",
   "name": "python2"
  },
  "language_info": {
   "codemirror_mode": {
    "name": "ipython",
    "version": 2
   },
   "file_extension": ".py",
   "mimetype": "text/x-python",
   "name": "python",
   "nbconvert_exporter": "python",
   "pygments_lexer": "ipython2",
   "version": "2.7.10"
  }
 },
 "nbformat": 4,
 "nbformat_minor": 0
}
