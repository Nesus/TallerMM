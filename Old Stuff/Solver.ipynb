{
 "cells": [
  {
   "cell_type": "code",
   "execution_count": 1,
   "metadata": {
    "collapsed": true
   },
   "outputs": [],
   "source": [
    "import numpy as np\n",
    "import sympy as sp\n",
    "from scipy.optimize import fsolve\n",
    "from scipy.integrate import odeint"
   ]
  },
  {
   "cell_type": "code",
   "execution_count": 2,
   "metadata": {
    "collapsed": false
   },
   "outputs": [],
   "source": [
    "def tf(y):\n",
    "    y1, y2 = y\n",
    "    return np.array([-y1**2, y2**(1./2.)])\n",
    "def tdf(y):\n",
    "    y1, y2 = y\n",
    "    return np.array([[-2.*y1, 0], [0, 0.5*y2**(-0.5)]])\n",
    "def K(x, y, sigma = 1):\n",
    "    return np.exp(-1*(np.linalg.norm(x - y)**2)/(sigma**2))\n",
    "\n",
    "# Unidimensional system\n",
    "def f(y, t, sigma = 1):\n",
    "    y1, y2, y3, a1, a2, a3 = y\n",
    "    return np.array([K(y1, y1, sigma)*a1 + K(y1, y2, sigma)*a2 + K(y1, y3, sigma)*a3,\n",
    "                    K(y2, y1, sigma)*a1 + K(y2, y2, sigma)*a2 + K(y2, y3, sigma)*a3,\n",
    "                    K(y3, y1, sigma)*a1 + K(y3, y2, sigma)*a2 + K(y3, y3, sigma)*a3,\n",
    "                    -2./sigma*(np.dot(a1.T, a1)*K(y1, y1, sigma)*(y1 - y1) + np.dot(a1.T, a2)*K(y1, y2, sigma)*(y1 - y2) + np.dot(a1.T, a3)*K(y1, y3, sigma)*(y1 - y3)),\n",
    "                    -2./sigma*(np.dot(a2.T, a1)*K(y2, y1, sigma)*(y2 - y1) + np.dot(a2.T, a2)*K(y2, y2, sigma)*(y2 - y2) + np.dot(a2.T, a3)*K(y2, y3, sigma)*(y2 - y3)),\n",
    "                    -2./sigma*(np.dot(a3.T, a1)*K(y3, y1, sigma)*(y3 - y1) + np.dot(a3.T, a2)*K(y3, y2, sigma)*(y3 - y2) + np.dot(a3.T, a3)*K(y3, y3, sigma)*(y3 - y3))])\n",
    "\n",
    "def df(y, t, sigma = 1):\n",
    "    y1, y2, y3, a1, a2, a3 = y\n",
    "    return np.array([[(2./sigma)*y1*(K(y1, y1, sigma)*a1 + K(y1, y2, sigma)*a2 + K(y1, y3, sigma)*a3),\n",
    "                      (-2./sigma)*y2*K(y1, y2, sigma)*a2,\n",
    "                      (-2./sigma)*y3*K(y1, y3, sigma)*a3,\n",
    "                      K(y1, y1, sigma), K(y1, y2, sigma), K(y1, y3, sigma)],\n",
    "                     [(-2./sigma)*y1*K(y2, y1, sigma)*a1,\n",
    "                      (2./sigma)*y2*(K(y2, y1, sigma)*a1 + K(y2, y2, sigma)*a2 + K(y2, y3, sigma)*a3),\n",
    "                      (-2./sigma)*y3*K(y2, y3, sigma)*a3,\n",
    "                      K(y2, y1, sigma), K(y2, y2, sigma), K(y2, y3, sigma)],\n",
    "                     [(-2./sigma)*y1*K(y1, y1, sigma)*a1,\n",
    "                      (-2./sigma)*y2*K(y1, y2, sigma)*a2,\n",
    "                      (2./sigma)*y3*(K(y1, y1, sigma)*a1 + K(y1, y2, sigma)*a2 + K(y1, y3, sigma)*a3),\n",
    "                      K(y3, y1, sigma), K(y3, y2, sigma), K(y3, y3, sigma)],\n",
    "                     [-2./sigma*(-1*np.dot(a1.T, a2)*K(y1, y2, sigma)*(y1 - y2) + np.dot(a1.T, a3)*K(y1, y3, sigma)*(y1 - y3))],\n",
    "                     [],\n",
    "                     []])\n",
    "\n",
    "## Function of the Differential Problem\n",
    "#def f(y):\n",
    "#   y1, y2 = y\n",
    "#   return np.array([-y1 + y2, 3*y1 - 7*y2])\n",
    "\n",
    "## Jacobian of the problem\n",
    "#def df(y):\n",
    "#    y1, y2 = y\n",
    "#    return np.array([[-1., 1.], [3., -7.]])\n",
    "\n",
    "## Real (analytic) solution of differential problem\n",
    "def sol(y):\n",
    "    return np.array([1./(1. + y), ((1./4.)*(y + 2)**2)])\n",
    "\n",
    "## F for solve F(y) = 0 with Newton method. \n",
    "## y = y_i+1\n",
    "def F(y, y_0, h, f):\n",
    "    return y - y_0 - h*f(y)\n",
    "\n",
    "## Jacobian of F\n",
    "def dF(y, h, df):\n",
    "    return np.identity(2) - h*df(y)\n",
    "\n",
    "## Implicit midpoint Rule\n",
    "## Here we use y_i+1 = y_1 + h*f((y_i+1 + y_i)/2)\n",
    "def Fi(y, y_0, h, f):\n",
    "    return y - y_0 - h*f((y+y_0)*0.5)\n",
    "\n",
    "## Jacobian of Fi, using chain's rule.\n",
    "def dFi(y, h, df):\n",
    "    return np.identity(2) - 0.5*h*df(y)\n",
    "\n",
    "def newton(y_0, h, f, df, maxiter = 10000, tol = 1e-10):\n",
    "    #Initial Guess\n",
    "    y = y_0.copy()\n",
    "    for j in range(maxiter):\n",
    "        #Step calculation\n",
    "        w = np.linalg.solve(dFi(y, h, df), -1*Fi(y, y_0, h, f))\n",
    "        y += w\n",
    "        ## Found an acceptable solution\n",
    "        if np.linalg.norm(F(y, y_0, h, f)) < tol:\n",
    "            break\n",
    "    return y\n",
    "\n",
    "def solver(f, df, h, y_0, t_0, t_f):\n",
    "    n = int((t_f-t_0)/h)\n",
    "    y = np.zeros((n+1,len(y_0)))\n",
    "    trange = np.linspace(t_0, t_f, n+1)\n",
    "    y[0] = y_0.copy()\n",
    "    for i in range(1,n+1):\n",
    "        y[i] = newton(y[i-1], h, f, df)\n",
    "    return y, trange"
   ]
  },
  {
   "cell_type": "code",
   "execution_count": 36,
   "metadata": {
    "collapsed": true
   },
   "outputs": [],
   "source": [
    "# Shooting Method Version 1\n",
    "# dy: vectorized function\n",
    "# dz: vectorized function\n",
    "# a: left border\n",
    "# b: right border\n",
    "# y_a: vector value in a\n",
    "# y_b: vector value in b\n",
    "# alpha: vector shooting\n",
    "# h: dt\n",
    "def shootingMethod1(dy, dz, a, b, y_a, y_b, alpha, h):\n",
    "    y_i = y_a\n",
    "    z_i = alpha\n",
    "    for i in np.arange(a, b, h):\n",
    "        y_i_next = y_i + dy(i, y_i, z_i) * h\n",
    "        z_i_next = z_i + dz(i, y_i, z_i) * h\n",
    "        y_i = y_i_next\n",
    "        z_i = z_i_next\n",
    "    print \"y_b real:\", y_b\n",
    "    print \"con alpha =\", alpha, \"se obtiene:\", y_i\n",
    "    print \"diferencia:\", y_b - y_i\n",
    "\n",
    "def dy1(i, y_i, z_i):\n",
    "    return z_i\n",
    "\n",
    "# Test function: d^2 y/dx^2 = (3/2)y^2\n",
    "# Fuente: wikipedia\n",
    "# Aproximacion a Soluciones: -8 y -36\n",
    "def dz1(i, y, z):\n",
    "    return 1.5 * (y ** 2)\n",
    "\n",
    "# Test function: d^2 y/dx^2 = -8x^2 + 72x + 2y\n",
    "# Fuente: youtube\n",
    "# Aproximacion a Soluciones: -20.57\n",
    "def dz2(i, y, z):\n",
    "    return -8 * (i ** 2) + 72 * i + 2 * y\n",
    "\n",
    "# -------------------------------------------------------------------------"
   ]
  },
  {
   "cell_type": "code",
   "execution_count": 38,
   "metadata": {
    "collapsed": false
   },
   "outputs": [
    {
     "name": "stdout",
     "output_type": "stream",
     "text": [
      "y_b real: 1\n",
      "con alpha = -36 se obtiene: 1.06240553676\n",
      "diferencia: -0.0624055367579\n",
      "y_b real: 1\n",
      "con alpha = -8 se obtiene: 1.00002699429\n",
      "diferencia: -2.69942932307e-05\n",
      "y_b real: 0\n",
      "con alpha = -20.57 se obtiene: 0.09\n",
      "diferencia: -0.09\n"
     ]
    }
   ],
   "source": [
    "#vdy1 = np.vectorize(dy1)\n",
    "#vdz1 = np.vectorize(dz1)\n",
    "#shootingMethod1(vdy1, vdz1, 0, 1, np.array([1,2,3,4]), np.array([2,3,4,5]), np.array([1,1,1,1]), 0.01)\n",
    "shootingMethod1(dy1, dz1, 0, 1, 4, 1, -36, 0.00001)\n",
    "shootingMethod1(dy1, dz1, 0, 1, 4, 1, -8, 0.00001)\n",
    "shootingMethod1(dy1, dz2, 0, 9, 0, 0, -20.57, 3)"
   ]
  },
  {
   "cell_type": "code",
   "execution_count": 3,
   "metadata": {
    "collapsed": false,
    "scrolled": true
   },
   "outputs": [
    {
     "data": {
      "text/plain": [
       "array([[ 1.        ,  1.        ],\n",
       "       [ 0.9089023 ,  1.10253125],\n",
       "       [ 0.83304297,  1.21006249],\n",
       "       [ 0.76888837,  1.32259374],\n",
       "       [ 0.71392033,  1.44012498],\n",
       "       [ 0.66629544,  1.56265623],\n",
       "       [ 0.62463303,  1.69018747],\n",
       "       [ 0.58787843,  1.82271872],\n",
       "       [ 0.55521203,  1.96024996],\n",
       "       [ 0.52598724,  2.10278121],\n",
       "       [ 0.49968704,  2.25031245]])"
      ]
     },
     "execution_count": 3,
     "metadata": {},
     "output_type": "execute_result"
    }
   ],
   "source": [
    "y, t = solver(tf, tdf, 0.1, np.array([1,1]), 0, 1)\n",
    "y"
   ]
  },
  {
   "cell_type": "code",
   "execution_count": 4,
   "metadata": {
    "collapsed": false,
    "scrolled": true
   },
   "outputs": [
    {
     "data": {
      "text/plain": [
       "array([[ 1.        ,  1.        ],\n",
       "       [ 0.90909091,  1.1025    ],\n",
       "       [ 0.83333333,  1.21      ],\n",
       "       [ 0.76923077,  1.3225    ],\n",
       "       [ 0.71428571,  1.44      ],\n",
       "       [ 0.66666667,  1.5625    ],\n",
       "       [ 0.625     ,  1.69      ],\n",
       "       [ 0.58823529,  1.8225    ],\n",
       "       [ 0.55555556,  1.96      ],\n",
       "       [ 0.52631579,  2.1025    ],\n",
       "       [ 0.5       ,  2.25      ]])"
      ]
     },
     "execution_count": 4,
     "metadata": {},
     "output_type": "execute_result"
    }
   ],
   "source": [
    "sol(t).T"
   ]
  },
  {
   "cell_type": "code",
   "execution_count": 5,
   "metadata": {
    "collapsed": false
   },
   "outputs": [
    {
     "data": {
      "text/plain": [
       "array([[ 1.        ,  1.        ],\n",
       "       [ 0.9089023 ,  1.10253125],\n",
       "       [ 0.83304297,  1.21006249],\n",
       "       [ 0.76888837,  1.32259374],\n",
       "       [ 0.71392033,  1.44012498],\n",
       "       [ 0.66629544,  1.56265623],\n",
       "       [ 0.62463303,  1.69018747],\n",
       "       [ 0.58787843,  1.82271872],\n",
       "       [ 0.55521203,  1.96024996],\n",
       "       [ 0.52598724,  2.10278121],\n",
       "       [ 0.49968704,  2.25031245]])"
      ]
     },
     "execution_count": 5,
     "metadata": {},
     "output_type": "execute_result"
    }
   ],
   "source": [
    "y"
   ]
  },
  {
   "cell_type": "code",
   "execution_count": 11,
   "metadata": {
    "collapsed": false
   },
   "outputs": [
    {
     "name": "stdout",
     "output_type": "stream",
     "text": [
      "[[  0.          10.          -1.           1.          -2.           3.        ]\n",
      " [  0.21894485   9.8         -0.6521391    0.78497925  -2.           3.21502075]\n",
      " [  0.46045238   9.6         -0.28520285   0.5943511   -2.           3.4056489 ]\n",
      " [  0.72903461   9.4          0.09526225   0.44113442  -2.           3.55886558]\n",
      " [  1.02407133   9.2          0.48413312   0.32672904  -2.           3.67327096]\n",
      " [  1.34168134   9.           0.87780804   0.24467205  -2.           3.75532795]\n",
      " [  1.67710794   8.8          1.27413682   0.18653704  -2.           3.81346296]\n",
      " [  2.02608763   8.6          1.67193456   0.14512496  -2.           3.85487504]\n",
      " [  2.38526015   8.4          2.07056388   0.11518795  -2.           3.88481205]\n",
      " [  2.75211921   8.2          2.4696792    0.09314054  -2.           3.90685946]\n",
      " [  3.12483199   8.           2.86908857   0.0765845   -2.           3.9234155 ]]\n"
     ]
    }
   ],
   "source": [
    "t0 = np.array([0,10,-1,1,-2,3])\n",
    "print odeint(f, t0, t)"
   ]
  },
  {
   "cell_type": "code",
   "execution_count": 12,
   "metadata": {
    "collapsed": false
   },
   "outputs": [
    {
     "data": {
      "text/plain": [
       "2.0"
      ]
     },
     "execution_count": 12,
     "metadata": {},
     "output_type": "execute_result"
    }
   ],
   "source": [
    "0.0765845 +  -2.  +         3.9234155"
   ]
  },
  {
   "cell_type": "code",
   "execution_count": null,
   "metadata": {
    "collapsed": true
   },
   "outputs": [],
   "source": []
  }
 ],
 "metadata": {
  "kernelspec": {
   "display_name": "Python 2",
   "language": "python",
   "name": "python2"
  },
  "language_info": {
   "codemirror_mode": {
    "name": "ipython",
    "version": 2
   },
   "file_extension": ".py",
   "mimetype": "text/x-python",
   "name": "python",
   "nbconvert_exporter": "python",
   "pygments_lexer": "ipython2",
   "version": "2.7.10"
  }
 },
 "nbformat": 4,
 "nbformat_minor": 0
}
