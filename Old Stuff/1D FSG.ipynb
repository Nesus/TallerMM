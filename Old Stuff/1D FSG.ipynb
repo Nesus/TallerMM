{
 "cells": [
  {
   "cell_type": "code",
   "execution_count": 4,
   "metadata": {
    "collapsed": false
   },
   "outputs": [],
   "source": [
    "import random\n",
    "import numpy as np\n",
    "import math"
   ]
  },
  {
   "cell_type": "code",
   "execution_count": 27,
   "metadata": {
    "collapsed": false
   },
   "outputs": [],
   "source": [
    "def FMM(z, charges, points, precision, r):\n",
    "    \n",
    "    M, = charges.shape\n",
    "    n = math.log(M,4)\n",
    "    p = int(round(abs(math.log(precision,2))))\n",
    "    step = (np.max(points) - np.min(points))/ n\n",
    "    \n",
    "    near_index = np.logical_and(points>(z-r),points < (z+r))\n",
    "    #print near_index\n",
    "    near_influence = near_field(z, charges[near_index],\n",
    "                                points[near_index])\n",
    "    \n",
    "    \n",
    "    far_index = np.logical_not(near_index)\n",
    "    #print far_index\n",
    "    far_influence = far_field(z, charges[far_index] , points[far_index], p )\n",
    "\n",
    "    print \"near field\", near_influence\n",
    "    print \"far field\", far_influence\n",
    "    return near_influence + far_influence\n",
    "    #far_influence = \n",
    "\n",
    "    \n",
    "def precalc_ak(charges,points, p):\n",
    "    k = np.arange(1,p+1)\n",
    "    m = len(points)\n",
    "    k_mat = np.repeat(k,m).reshape((p,m))\n",
    "    \n",
    "    z_k = np.power(points,k_mat)\n",
    "    mult = np.multiply(z_k,-charges)\n",
    "    div = np.sum(mult, axis=1) / (k)\n",
    "    return div\n",
    "\n",
    "def near_field(z,charges,points):\n",
    "    z_points = abs(z - points)\n",
    "    z_points = z_points[z_points != 0]\n",
    "    log_z = np.log(z_points)\n",
    "    q_z = charges[(z-points) != 0] * log_z\n",
    "    influ = np.sum(q_z)\n",
    "    return influ\n",
    "\n",
    "def far_field(z,charges,points, p):\n",
    "    a_k = precalc_ak(charges,points,p)\n",
    "    Q = sum(charges)\n",
    "    Qlogz = Q*np.log(z)\n",
    "    k = np.arange(1,p+1)\n",
    "    zk = np.power(z,k)\n",
    "    akzk = a_k/zk\n",
    "    #print \"p\", p\n",
    "    #print \"points\", points\n",
    "    #print \"q\", charges\n",
    "    #print \"ak\", a_k\n",
    "    #print \"z\", z\n",
    "    #print \"zk\", zk\n",
    "    #print \"qlogz\", Qlogz\n",
    "    #print \"akzk\", akzk\n",
    "    #print \"suma\",sum(akzk)\n",
    "    influ = Qlogz + sum(akzk)\n",
    "    return influ\n",
    "\n",
    "def max_error(charges, z, r, p):\n",
    "    c = abs(z/r)\n",
    "    print c\n",
    "    A = np.sum(np.apply_along_axis(abs, 0, charges))\n",
    "    print A\n",
    "    return (A/(c - 1))*(1/c)**p"
   ]
  },
  {
   "cell_type": "code",
   "execution_count": 37,
   "metadata": {
    "collapsed": false
   },
   "outputs": [
    {
     "name": "stdout",
     "output_type": "stream",
     "text": [
      "3.30853269459\n",
      "near field 0.0\n",
      "far field -32.6045038564\n",
      "-32.6045038564\n"
     ]
    }
   ],
   "source": [
    "np.random.seed(3)\n",
    "size = 10000\n",
    "charges = np.random.random(size) - 0.5\n",
    "points = np.random.rand(size)\n",
    "\n",
    "zindex = np.random.randint(len(points))\n",
    "\n",
    "z = points[zindex]+3\n",
    "precision = 1e-3\n",
    "print z\n",
    "r = 0.05\n",
    "#r = 1000\n",
    "\n",
    "fmm = FMM(z,charges,points, precision, r)\n",
    "print fmm"
   ]
  },
  {
   "cell_type": "code",
   "execution_count": 38,
   "metadata": {
    "collapsed": false
   },
   "outputs": [
    {
     "name": "stdout",
     "output_type": "stream",
     "text": [
      "near field -32.6045025298\n",
      "far field 0.0\n",
      "-32.6045025298\n"
     ]
    }
   ],
   "source": [
    "r = 10000\n",
    "nofmm = FMM(z,charges,points, precision, r)\n",
    "print nofmm"
   ]
  },
  {
   "cell_type": "code",
   "execution_count": 39,
   "metadata": {
    "collapsed": false
   },
   "outputs": [
    {
     "name": "stdout",
     "output_type": "stream",
     "text": [
      "1.32656222718e-06\n"
     ]
    }
   ],
   "source": [
    "Error = abs(fmm - nofmm)\n",
    "print Error"
   ]
  },
  {
   "cell_type": "code",
   "execution_count": 40,
   "metadata": {
    "collapsed": false
   },
   "outputs": [
    {
     "name": "stdout",
     "output_type": "stream",
     "text": [
      "6.61706538919\n",
      "2500.10623678\n"
     ]
    },
    {
     "data": {
      "text/plain": [
       "2.7656340956959125e-06"
      ]
     },
     "execution_count": 40,
     "metadata": {},
     "output_type": "execute_result"
    }
   ],
   "source": [
    "r = 0.5\n",
    "p = int(round(abs(math.log(precision,2))))\n",
    "max_error(charges, z, r, p)"
   ]
  },
  {
   "cell_type": "code",
   "execution_count": null,
   "metadata": {
    "collapsed": true
   },
   "outputs": [],
   "source": []
  }
 ],
 "metadata": {
  "kernelspec": {
   "display_name": "Python 2",
   "language": "python",
   "name": "python2"
  },
  "language_info": {
   "codemirror_mode": {
    "name": "ipython",
    "version": 2
   },
   "file_extension": ".py",
   "mimetype": "text/x-python",
   "name": "python",
   "nbconvert_exporter": "python",
   "pygments_lexer": "ipython2",
   "version": "2.7.10"
  }
 },
 "nbformat": 4,
 "nbformat_minor": 0
}
