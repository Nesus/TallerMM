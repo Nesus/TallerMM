{
 "metadata": {
  "kernelspec": {
   "display_name": "Python 2",
   "language": "python",
   "name": "python2"
  },
  "language_info": {
   "codemirror_mode": {
    "name": "ipython",
    "version": 2
   },
   "file_extension": ".py",
   "mimetype": "text/x-python",
   "name": "python",
   "nbconvert_exporter": "python",
   "pygments_lexer": "ipython2",
   "version": "2.7.10"
  },
  "name": "",
  "signature": "sha256:8e173119cccc0b93a1648cea6e4a04d615964437051e63b0a64e5acc92e2912a"
 },
 "nbformat": 3,
 "nbformat_minor": 0,
 "worksheets": [
  {
   "cells": [
    {
     "cell_type": "code",
     "collapsed": false,
     "input": [
      "import random\n",
      "import numpy as np\n",
      "import math"
     ],
     "language": "python",
     "metadata": {},
     "outputs": [],
     "prompt_number": 1
    },
    {
     "cell_type": "code",
     "collapsed": false,
     "input": [
      "def precalc_ak(charges,points, p):\n",
      "    k = np.arange(1,p+1)\n",
      "    m = len(points)\n",
      "    k_mat = np.repeat(k,m).reshape((p,m))\n",
      "    \n",
      "    z_k = np.power(points,k_mat)\n",
      "    mult = np.multiply(z_k,-charges)\n",
      "    div = np.sum(mult, axis=1) / (k)\n",
      "    return div"
     ],
     "language": "python",
     "metadata": {},
     "outputs": [],
     "prompt_number": 2
    },
    {
     "cell_type": "code",
     "collapsed": false,
     "input": [
      "def near_field(z,charges,points):\n",
      "    z_points = abs(z - points)\n",
      "    z_points = z_points[z_points != 0]\n",
      "    log_z = np.log(z_points)\n",
      "    q_z = charges[(z-points) != 0] * log_z\n",
      "    influ = np.sum(q_z)\n",
      "    return influ"
     ],
     "language": "python",
     "metadata": {},
     "outputs": [],
     "prompt_number": 3
    },
    {
     "cell_type": "code",
     "collapsed": false,
     "input": [
      "def far_field(z,charges,points, p):\n",
      "    a_k = precalc_ak(charges,points,p)\n",
      "    Q = sum(charges)\n",
      "    Qlogz = Q*np.log(z)\n",
      "    k = np.arange(1,p+1)\n",
      "    zk = np.power(z,k)\n",
      "    akzk = a_k/zk\n",
      "    influ = Qlogz + sum(akzk)\n",
      "    return influ"
     ],
     "language": "python",
     "metadata": {},
     "outputs": [],
     "prompt_number": 4
    },
    {
     "cell_type": "code",
     "collapsed": false,
     "input": [
      "def FMM(z, charges, points, precision, r):\n",
      "    \n",
      "    M, = charges.shape\n",
      "    n = math.log(M,4)\n",
      "    p = int(round(abs(math.log(precision,2))))\n",
      "    step = (np.max(points) - np.min(points))/ n\n",
      "    \n",
      "    near_index = np.logical_and(points>(z-r),points < (z+r))\n",
      "    near_influence = near_field(z, charges[near_index],\n",
      "                                points[near_index])\n",
      "    \n",
      "    \n",
      "    far_index = np.logical_not(near_index)\n",
      "    far_influence = far_field(z, charges[far_index] , points[far_index], p )\n",
      "\n",
      "    return near_influence + far_influence"
     ],
     "language": "python",
     "metadata": {},
     "outputs": [],
     "prompt_number": 5
    },
    {
     "cell_type": "code",
     "collapsed": false,
     "input": [
      "np.random.seed(3)\n",
      "size = 1000\n",
      "#charges = np.random.random(size) - 0.5\n",
      "charges = np.random.randint(-10,10,size)\n",
      "points = np.random.rand(size)\n",
      "\n",
      "zindex = np.random.randint(len(points))\n",
      "#z = points[zindex]\n",
      "z = 0.7\n",
      "r = 0.5\n",
      "\n",
      "full = FMM(z,charges,points, 1e-6, r)\n",
      "\n",
      "r = 1000\n",
      "aprox = FMM(z,charges,points, 1e-6, r)\n",
      "\n",
      "abs(full-aprox)"
     ],
     "language": "python",
     "metadata": {},
     "outputs": [
      {
       "metadata": {},
       "output_type": "pyout",
       "prompt_number": 9,
       "text": [
        "1.1368683772161603e-13"
       ]
      }
     ],
     "prompt_number": 9
    },
    {
     "cell_type": "code",
     "collapsed": true,
     "input": [],
     "language": "python",
     "metadata": {},
     "outputs": [],
     "prompt_number": null
    }
   ],
   "metadata": {}
  }
 ]
}