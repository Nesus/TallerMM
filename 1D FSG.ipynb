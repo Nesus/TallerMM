{
 "cells": [
  {
   "cell_type": "code",
   "execution_count": 25,
   "metadata": {
    "collapsed": false
   },
   "outputs": [],
   "source": [
    "import random\n",
    "import numpy as np\n",
    "import math"
   ]
  },
  {
   "cell_type": "code",
   "execution_count": 26,
   "metadata": {
    "collapsed": false
   },
   "outputs": [],
   "source": [
    "def FMM(charges, points, precision):\n",
    "    M, = charges.shape\n",
    "    n = math.log(M,4)\n",
    "    p = int(round(abs(math.log(precision,2))))\n",
    "    \n",
    "    precalc_ak(charges,points,p)\n",
    "    print n,p\n",
    "\n",
    "    \n",
    "def precalc_ak(charges,points, p):\n",
    "    k = np.arange(1,p+1)\n",
    "    m = len(points)\n",
    "    k_mat = np.repeat(k,m).reshape((p,m))\n",
    "    \n",
    "    z_k = np.power(points,k_mat)\n",
    "    mult = np.multiply(z_k,-charges)\n",
    "    div = np.sum(mult, axis=1) / (k)\n",
    "    print div\n",
    "\n",
    "def near_field(charges,points):\n",
    "    \n",
    "    \n",
    "#def far_field_evaluation(z, charges,points, a_k):\n",
    "    "
   ]
  },
  {
   "cell_type": "code",
   "execution_count": 27,
   "metadata": {
    "collapsed": false
   },
   "outputs": [
    {
     "name": "stdout",
     "output_type": "stream",
     "text": [
      "[ 7.98521972  1.38039676 -0.08933168 -0.54400072 -0.6836478  -0.7050496\n",
      " -0.67927775 -0.63573667 -0.58740653 -0.54007135 -0.49616588 -0.45652412\n",
      " -0.42121909 -0.38997915 -0.3623969  -0.33803305 -0.316466   -0.29731328\n",
      " -0.2802385  -0.26495112]\n",
      "1.66096404744 20\n"
     ]
    }
   ],
   "source": [
    "size = 10\n",
    "charges = np.random.randint(-10,10,size)\n",
    "points = np.random.rand(size)\n",
    "\n",
    "FMM(charges,points, 1e-6)"
   ]
  },
  {
   "cell_type": "code",
   "execution_count": null,
   "metadata": {
    "collapsed": true
   },
   "outputs": [],
   "source": []
  }
 ],
 "metadata": {
  "kernelspec": {
   "display_name": "Python 2",
   "language": "python",
   "name": "python2"
  },
  "language_info": {
   "codemirror_mode": {
    "name": "ipython",
    "version": 2
   },
   "file_extension": ".py",
   "mimetype": "text/x-python",
   "name": "python",
   "nbconvert_exporter": "python",
   "pygments_lexer": "ipython2",
   "version": "2.7.10"
  }
 },
 "nbformat": 4,
 "nbformat_minor": 0
}
