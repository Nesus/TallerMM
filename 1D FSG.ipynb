{
 "cells": [
  {
   "cell_type": "code",
   "execution_count": 1,
   "metadata": {
    "collapsed": false
   },
   "outputs": [],
   "source": [
    "import random\n",
    "import numpy as np\n",
    "import math"
   ]
  },
  {
   "cell_type": "code",
   "execution_count": 50,
   "metadata": {
    "collapsed": false
   },
   "outputs": [],
   "source": [
    "def FMM(z, charges, points, precision, r):\n",
    "    \n",
    "    M, = charges.shape\n",
    "    n = math.log(M,4)\n",
    "    p = int(round(abs(math.log(precision,2))))\n",
    "    step = (np.max(points) - np.min(points))/ n\n",
    "    \n",
    "    near_index = np.logical_and(points>(z-r),points < (z+r))\n",
    "    near_influence = near_field(z, charges[near_index],\n",
    "                                points[near_index])\n",
    "    \n",
    "    \n",
    "    far_index = np.logical_not(near_index)\n",
    "    far_influence = far_field(z, charges[far_index] , points[far_index], p )\n",
    "\n",
    "    print \"near field\", near_influence\n",
    "    print \"far field\", far_influence\n",
    "    return near_influence + far_influence\n",
    "    #far_influence = \n",
    "\n",
    "    \n",
    "def precalc_ak(charges,points, p):\n",
    "    k = np.arange(1,p+1)\n",
    "    m = len(points)\n",
    "    k_mat = np.repeat(k,m).reshape((p,m))\n",
    "    \n",
    "    z_k = np.power(points,k_mat)\n",
    "    mult = np.multiply(z_k,-charges)\n",
    "    div = np.sum(mult, axis=1) / (k)\n",
    "    return div\n",
    "\n",
    "def near_field(z,charges,points):\n",
    "    z_points = abs(z - points)\n",
    "    z_points = z_points[z_points != 0]\n",
    "    log_z = np.log(z_points)\n",
    "    q_z = charges[(z-points) != 0] * log_z\n",
    "    influ = np.sum(q_z)\n",
    "    return influ\n",
    "\n",
    "def far_field(z,charges,points, p):\n",
    "    a_k = precalc_ak(charges,points,p)\n",
    "    Q = sum(charges)\n",
    "    Qlogz = Q*np.log(z)\n",
    "    k = np.arange(1,p+1)\n",
    "    zk = np.power(z,k)\n",
    "    akzk = a_k/zk\n",
    "    print \"p\", p\n",
    "    print \"points\", points\n",
    "    print \"q\", charges\n",
    "    print \"ak\", a_k\n",
    "    print \"z\", z\n",
    "    print \"zk\", zk\n",
    "    print \"qlogz\", Qlogz\n",
    "    print \"akzk\", akzk\n",
    "    print \"suma\",sum(akzk)\n",
    "    influ = Qlogz + sum(akzk)\n",
    "    return influ"
   ]
  },
  {
   "cell_type": "code",
   "execution_count": null,
   "metadata": {
    "collapsed": true
   },
   "outputs": [],
   "source": []
  },
  {
   "cell_type": "code",
   "execution_count": 52,
   "metadata": {
    "collapsed": false
   },
   "outputs": [
    {
     "name": "stdout",
     "output_type": "stream",
     "text": [
      "p 20\n",
      "points []\n",
      "q []\n",
      "ak [ 0.  0.  0.  0.  0.  0.  0.  0.  0.  0.  0.  0.  0.  0.  0.  0.  0.  0.\n",
      "  0.  0.]\n",
      "z 0.65\n",
      "zk [  6.50000000e-01   4.22500000e-01   2.74625000e-01   1.78506250e-01\n",
      "   1.16029063e-01   7.54188906e-02   4.90222789e-02   3.18644813e-02\n",
      "   2.07119128e-02   1.34627433e-02   8.75078317e-03   5.68800906e-03\n",
      "   3.69720589e-03   2.40318383e-03   1.56206949e-03   1.01534517e-03\n",
      "   6.59974359e-04   4.28983333e-04   2.78839167e-04   1.81245458e-04]\n",
      "qlogz -0.0\n",
      "akzk [ 0.  0.  0.  0.  0.  0.  0.  0.  0.  0.  0.  0.  0.  0.  0.  0.  0.  0.\n",
      "  0.  0.]\n",
      "suma 0.0\n",
      "near field -0.0674611632701\n",
      "far field 0.0\n"
     ]
    },
    {
     "data": {
      "text/plain": [
       "-0.067461163270147326"
      ]
     },
     "execution_count": 52,
     "metadata": {},
     "output_type": "execute_result"
    }
   ],
   "source": [
    "np.random.seed(3)\n",
    "size = 10\n",
    "charges = np.random.random(size) - 0.5\n",
    "points = np.random.rand(size)\n",
    "\n",
    "zindex = np.random.randint(len(points))\n",
    "#z = points[zindex]\n",
    "z = 0.65\n",
    "r = 0.5\n",
    "r = 1000\n",
    "\n",
    "FMM(z,charges,points, 1e-6, r)"
   ]
  },
  {
   "cell_type": "code",
   "execution_count": 53,
   "metadata": {
    "collapsed": false
   },
   "outputs": [
    {
     "data": {
      "text/plain": [
       "0.1349223265402943"
      ]
     },
     "execution_count": 53,
     "metadata": {},
     "output_type": "execute_result"
    }
   ],
   "source": [
    "abs(-0.067461163270146951-0.067461163270147326)"
   ]
  },
  {
   "cell_type": "code",
   "execution_count": null,
   "metadata": {
    "collapsed": true
   },
   "outputs": [],
   "source": []
  }
 ],
 "metadata": {
  "kernelspec": {
   "display_name": "Python 2",
   "language": "python",
   "name": "python2"
  },
  "language_info": {
   "codemirror_mode": {
    "name": "ipython",
    "version": 2
   },
   "file_extension": ".py",
   "mimetype": "text/x-python",
   "name": "python",
   "nbconvert_exporter": "python",
   "pygments_lexer": "ipython2",
   "version": "2.7.10"
  }
 },
 "nbformat": 4,
 "nbformat_minor": 0
}
