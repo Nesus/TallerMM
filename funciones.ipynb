{
 "cells": [
  {
   "cell_type": "code",
   "execution_count": 5,
   "metadata": {
    "collapsed": true
   },
   "outputs": [],
   "source": [
    "import numpy as np\n",
    "from pyfigtree import figtree"
   ]
  },
  {
   "cell_type": "code",
   "execution_count": 6,
   "metadata": {
    "collapsed": true
   },
   "outputs": [],
   "source": [
    "def position(X,alpha,delta):\n",
    "    X_x = figtree(X,X,alpha[:,0], delta,epsilon=1e-16, eval=\"auto\")\n",
    "    X_y = figtree(X,X,alpha[:,1], delta,epsilon=1e-16, eval=\"auto\")\n",
    "    X_z = figtree(X,X,alpha[:,2], delta,epsilon=1e-16, eval=\"auto\") \n",
    "    return np.dstack([X_x,X_y, X_z])[0]"
   ]
  },
  {
   "cell_type": "code",
   "execution_count": 7,
   "metadata": {
    "collapsed": true
   },
   "outputs": [],
   "source": [
    "def momentum(X,alpha,delta):\n",
    "    ax = alpha[:,0]\n",
    "    ay = alpha[:,1]\n",
    "    az = alpha[:,2]\n",
    "    \n",
    "    first_weights = np.dstack([ax * X[:,0], ax * X[:,1], ax * X[:,2]])[0]\n",
    "    second_weights = np.dstack([ay * X[:,0], ay * X[:,1], ay * X[:,2]])[0]\n",
    "    third_weights = np.dstack([az * X[:,0], az * X[:,1], az * X[:,2]])[0]\n",
    "    \n",
    "    first_sum_x = figtree(X,X,first_weights[:,0],delta, epsilon=1e-16, eval=\"auto\")\n",
    "    first_sum_y = figtree(X,X,first_weights[:,1],delta, epsilon=1e-16, eval=\"auto\")\n",
    "    first_sum_z = figtree(X,X,first_weights[:,2],delta, epsilon=1e-16, eval=\"auto\")\n",
    "    \n",
    "    \n",
    "    second_sum_x = figtree(X,X,second_weights[:,0],delta, epsilon=1e-16, eval=\"auto\")\n",
    "    second_sum_y = figtree(X,X,second_weights[:,1],delta, epsilon=1e-16, eval=\"auto\")\n",
    "    second_sum_z = figtree(X,X,second_weights[:,2],delta, epsilon=1e-16, eval=\"auto\")\n",
    "    \n",
    "    \n",
    "    third_sum_x = figtree(X,X,third_weights[:,0],delta, epsilon=1e-16, eval=\"auto\")\n",
    "    third_sum_y = figtree(X,X,third_weights[:,1],delta, epsilon=1e-16, eval=\"auto\")\n",
    "    third_sum_z = figtree(X,X,third_weights[:,2],delta, epsilon=1e-16, eval=\"auto\")\n",
    "    \n",
    "    fourth_sum = figtree(X,X,ax,delta, epsilon=1e-16, eval=\"auto\")\n",
    "    fifth_sum = figtree(X,X,ay,delta, epsilon=1e-16, eval=\"auto\")\n",
    "    sixth_sum = figtree(X,X,az,delta, epsilon=1e-16, eval=\"auto\")\n",
    "    \n",
    "    second_term = fourth_sum + fifth_sum + sixth_sum\n",
    "    \n",
    "    second_term_x = X[:,0] * second_term\n",
    "    second_term_y = X[:,1] * second_term\n",
    "    second_term_z = X[:,2] * second_term\n",
    " \n",
    "    mult = -2./X.shape[0]\n",
    "    result_x = mult*(ax* first_sum_x + ay * second_sum_x + az * third_sum_x - (second_term_x) )\n",
    "    result_y = mult*(ax* first_sum_y + ay * second_sum_y + az * third_sum_y - (second_term_y) )\n",
    "    result_z = mult*(ax* first_sum_z + ay * second_sum_z + az * third_sum_z - (second_term_z) )\n",
    "    result = np.dstack([result_x,result_y,result_z])[0]\n",
    "    \n",
    "    return result"
   ]
  },
  {
   "cell_type": "code",
   "execution_count": 8,
   "metadata": {
    "collapsed": true
   },
   "outputs": [],
   "source": [
    "def f(vector, delta):\n",
    "    positions, momentums = np.split(vector,2)\n",
    "    positions = np.reshape(positions,(3,len(positions)/3)).T\n",
    "    momentums = np.reshape(momentums,(3,len(momentums)/3)).T\n",
    "    new_positions = position(positions, momentums,delta)\n",
    "    new_momentums = momentum(positions, momentums,delta)\n",
    "    n,m = new_positions.shape\n",
    "    new_positions = np.reshape(new_positions.T, (n*m))\n",
    "    new_momentums = np.reshape(new_momentums.T, (n*m))\n",
    "    return np.hstack([new_positions,new_momentums])"
   ]
  },
  {
   "cell_type": "code",
   "execution_count": null,
   "metadata": {
    "collapsed": true
   },
   "outputs": [],
   "source": []
  }
 ],
 "metadata": {
  "kernelspec": {
   "display_name": "Python 2",
   "language": "python",
   "name": "python2"
  },
  "language_info": {
   "codemirror_mode": {
    "name": "ipython",
    "version": 2
   },
   "file_extension": ".py",
   "mimetype": "text/x-python",
   "name": "python",
   "nbconvert_exporter": "python",
   "pygments_lexer": "ipython2",
   "version": "2.7.10"
  }
 },
 "nbformat": 4,
 "nbformat_minor": 0
}
