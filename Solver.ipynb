{
 "cells": [
  {
   "cell_type": "code",
   "execution_count": 1,
   "metadata": {
    "collapsed": true
   },
   "outputs": [],
   "source": [
    "import numpy as np\n",
    "import sympy as sp\n",
    "from scipy.optimize import fsolve\n",
    "t, y = sp.symbols(\"t y\", real=True)"
   ]
  },
  {
   "cell_type": "code",
   "execution_count": 56,
   "metadata": {
    "collapsed": false
   },
   "outputs": [],
   "source": [
    "def f(y):\n",
    "    return y**(1/2)\n",
    "\n",
    "def sol(y):\n",
    "    return (1./4.)*(4. + 4.*y + y**2)\n",
    "## y = y_i+1\n",
    "def F(y, y_i, h):\n",
    "    return y - y_i - h*f(y)\n",
    "\n",
    "def dF(y):\n",
    "    return 1 - h*df(y)\n",
    "\n",
    "def newton(t, y_0, h, maxiter = 100, tol = 1e-15):\n",
    "    y = y_0\n",
    "    for i in range(maxiter):\n",
    "        w = F(t, y, y_0, h)/dF(t, y, h)\n",
    "        y -= w\n",
    "        if F(t, y, y_0, h) < tol:\n",
    "            print \"tol\"\n",
    "            break\n",
    "    return y\n",
    "\n",
    "def solver(f, h, y_0, t_0, t_f):\n",
    "    n = int((t_f-t_0)/h)\n",
    "    #y = np.zeros((len(y_0), n+1))\n",
    "    y = np.empty((n+1,))\n",
    "    trange = np.linspace(t_0, t_f, n+1)\n",
    "    y[0] = y_0\n",
    "    for i in range(1,n+1):\n",
    "        y[i] = fsolve(F, x0 = y[i-1], args = (y[i-1], h))\n",
    "    return y, trange\n",
    "    "
   ]
  },
  {
   "cell_type": "code",
   "execution_count": 57,
   "metadata": {
    "collapsed": false
   },
   "outputs": [
    {
     "name": "stdout",
     "output_type": "stream",
     "text": [
      "[  0.00000000e+00   5.00012032e-10   1.20003230e-09 ...,   2.49999999e-01\n",
      "   2.50010000e-01   2.50020000e-01]\n"
     ]
    }
   ],
   "source": [
    "y, t = solver(f, 0.00002, 1, 0, 1)\n",
    "print abs(sol(t) - y)"
   ]
  },
  {
   "cell_type": "code",
   "execution_count": 58,
   "metadata": {
    "collapsed": false
   },
   "outputs": [
    {
     "data": {
      "text/plain": [
       "array([ 1.     ,  1.00002,  1.00004, ...,  2.24994,  2.24997,  2.25   ])"
      ]
     },
     "execution_count": 58,
     "metadata": {},
     "output_type": "execute_result"
    }
   ],
   "source": [
    "sol(t)"
   ]
  },
  {
   "cell_type": "code",
   "execution_count": 59,
   "metadata": {
    "collapsed": false
   },
   "outputs": [
    {
     "data": {
      "text/plain": [
       "array([ 1.     ,  1.00002,  1.00004, ...,  1.99994,  1.99996,  1.99998])"
      ]
     },
     "execution_count": 59,
     "metadata": {},
     "output_type": "execute_result"
    }
   ],
   "source": [
    "y"
   ]
  },
  {
   "cell_type": "code",
   "execution_count": null,
   "metadata": {
    "collapsed": true
   },
   "outputs": [],
   "source": []
  }
 ],
 "metadata": {
  "kernelspec": {
   "display_name": "Python 2",
   "language": "python",
   "name": "python2"
  },
  "language_info": {
   "codemirror_mode": {
    "name": "ipython",
    "version": 2
   },
   "file_extension": ".py",
   "mimetype": "text/x-python",
   "name": "python",
   "nbconvert_exporter": "python",
   "pygments_lexer": "ipython2",
   "version": "2.7.10"
  }
 },
 "nbformat": 4,
 "nbformat_minor": 0
}
