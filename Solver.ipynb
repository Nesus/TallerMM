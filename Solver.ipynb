{
 "cells": [
  {
   "cell_type": "code",
   "execution_count": 1,
   "metadata": {
    "collapsed": true
   },
   "outputs": [],
   "source": [
    "import numpy as np\n",
    "import sympy as sp\n",
    "from scipy.optimize import fsolve\n",
    "t, y = sp.symbols(\"t y\", real=True)"
   ]
  },
  {
   "cell_type": "code",
   "execution_count": 81,
   "metadata": {
    "collapsed": false
   },
   "outputs": [],
   "source": [
    "def f(y):\n",
    "    y1, y2 = y\n",
    "    return np.array([-y1**2, y2**(1./2.)])\n",
    "def df(y):\n",
    "    y1, y2 = y\n",
    "    return np.array([[-2.*y1, 0], [0, 0.5*y2**(-0.5)]])\n",
    "\n",
    "def sol(y):\n",
    "    return np.array([1./(1. + y), ((1./4.)*(y - 2)**2)])\n",
    "## y = y_i+1\n",
    "def F(y, y_i, h):\n",
    "    return y - y_i - h*f(y)\n",
    "\n",
    "def dF(y, h):\n",
    "    return 1 - h*df(y)\n",
    "\n",
    "def newton(y_0, h, maxiter = 10000, tol = 1e-15):\n",
    "    y = y_0\n",
    "    for j in range(maxiter):\n",
    "        ##w = F(t, y, y_0, h)/dF(t, y, h)\n",
    "        w = np.linalg.solve(dF(y, h), -1*F(y, y_0, h))\n",
    "        if j == 0:\n",
    "            print \"Y\", y\n",
    "            print \"W\", w\n",
    "        y += w\n",
    "        if j == 1:\n",
    "            print \"Y + 1\", y\n",
    "\n",
    "        if np.linalg.norm(w) < tol:\n",
    "            print \"tol\"\n",
    "            break\n",
    "    print \"Y retorno newton\", y\n",
    "    return y\n",
    "\n",
    "def solver(f, h, y_0, t_0, t_f):\n",
    "    n = int((t_f-t_0)/h)\n",
    "    y = np.empty((n+1,len(y_0)))\n",
    "    trange = np.linspace(t_0, t_f, n+1)\n",
    "    y[0] = y_0\n",
    "    for i in range(1,n+1):\n",
    "        print \"Punto i\", i\n",
    "        print \"tiempo t\", trange[i]\n",
    "        print \"Y en solucion tiempo anterior\", y[i-1]\n",
    "        #y[i] = fsolve(F, x0 = y[i-1], args = (y[i-1], h))\n",
    "        y[i] = newton(y[i-1], h)\n",
    "        print \"Y en solucion\", y[i]\n",
    "    return y, trange\n",
    "    "
   ]
  },
  {
   "cell_type": "code",
   "execution_count": 82,
   "metadata": {
    "collapsed": false
   },
   "outputs": [
    {
     "name": "stdout",
     "output_type": "stream",
     "text": [
      "Punto i 1\n",
      "tiempo t 0.2\n",
      "Y en solucion tiempo anterior [ 1.  1.]\n",
      "Y [ 1.  1.]\n",
      "W [-1.46153846  1.84615385]\n",
      "Y + 1 [ 1.15895385  1.4822258 ]\n",
      "Y retorno newton [ -3.00837539e+01   1.00427808e+06]\n",
      "Y en solucion [ -3.00837539e+01   1.00427808e+06]\n",
      "Punto i 2\n",
      "tiempo t 0.4\n",
      "Y en solucion tiempo anterior [ -3.00837539e+01   1.00427808e+06]\n",
      "Y [ -3.00837539e+01   1.00427808e+06]\n",
      "W [  31.69905595  168.74513353]\n",
      "Y + 1 [ -3.09498460e+02   1.00495843e+06]\n",
      "Y retorno newton [ -1.05439027e+01   4.00876334e+06]\n",
      "Y en solucion [ -1.05439027e+01   4.00876334e+06]\n",
      "Punto i 3\n",
      "tiempo t 0.6\n",
      "Y en solucion tiempo anterior [ -1.05439027e+01   4.00876334e+06]\n",
      "Y [ -1.05439027e+01   4.00876334e+06]\n",
      "W [ 100.22088352  300.23203914]\n",
      "Y + 1 [  3.36740947e+01   4.00952005e+06]\n",
      "Y retorno newton [ -1.48561016e+01   9.01327148e+06]\n",
      "Y en solucion [ -1.48561016e+01   9.01327148e+06]\n",
      "Punto i 4\n",
      "tiempo t 0.8\n",
      "Y en solucion tiempo anterior [ -1.48561016e+01   9.01327148e+06]\n",
      "Y [ -1.48561016e+01   9.01327148e+06]\n",
      "W [ 108.47384025  491.98476675]\n",
      "Y + 1 [  3.07734280e+01   9.01442679e+06]\n",
      "Y retorno newton [  4.82240547e+01   1.60177728e+07]\n",
      "Y en solucion [  4.82240547e+01   1.60177728e+07]\n",
      "Punto i 5\n",
      "tiempo t 1.0\n",
      "Y en solucion tiempo anterior [  4.82240547e+01   1.60177728e+07]\n",
      "Y [  4.82240547e+01   1.60177728e+07]\n",
      "W [ -65.60925531  866.07509181]\n",
      "Y + 1 [  1.06417194e+02   1.60193156e+07]\n",
      "Y retorno newton [  8.88760993e+01   2.50222979e+07]\n",
      "Y en solucion [  8.88760993e+01   2.50222979e+07]\n",
      "[[ -3.00837539e+01   1.00427808e+06]\n",
      " [ -1.05439027e+01   4.00876334e+06]\n",
      " [ -1.48561016e+01   9.01327148e+06]\n",
      " [  4.82240547e+01   1.60177728e+07]\n",
      " [  8.88760993e+01   2.50222979e+07]\n",
      " [  8.88760993e+01   2.50222979e+07]]\n",
      "[[ 1.          1.        ]\n",
      " [ 0.83333333  0.81      ]\n",
      " [ 0.71428571  0.64      ]\n",
      " [ 0.625       0.49      ]\n",
      " [ 0.55555556  0.36      ]\n",
      " [ 0.5         0.25      ]]\n"
     ]
    }
   ],
   "source": [
    "y, t = solver(f, 0.2, np.array([1,1]), 0, 1)\n",
    "print y\n",
    "print sol(t).T"
   ]
  },
  {
   "cell_type": "code",
   "execution_count": 52,
   "metadata": {
    "collapsed": false
   },
   "outputs": [
    {
     "data": {
      "text/plain": [
       "array([[ 1.        ,  0.83333333,  0.71428571,  0.625     ,  0.55555556,\n",
       "         0.5       ],\n",
       "       [ 1.        ,  0.81      ,  0.64      ,  0.49      ,  0.36      ,\n",
       "         0.25      ]])"
      ]
     },
     "execution_count": 52,
     "metadata": {},
     "output_type": "execute_result"
    }
   ],
   "source": [
    "sol(t)"
   ]
  },
  {
   "cell_type": "code",
   "execution_count": 72,
   "metadata": {
    "collapsed": false
   },
   "outputs": [
    {
     "data": {
      "text/plain": [
       "array([[ -3.00837539e+01,   1.00427808e+06],\n",
       "       [ -1.05439027e+01,   4.00876334e+06],\n",
       "       [ -1.48561016e+01,   9.01327148e+06],\n",
       "       [  4.82240547e+01,   1.60177728e+07],\n",
       "       [  8.88760993e+01,   2.50222979e+07],\n",
       "       [  8.88760993e+01,   2.50222979e+07]])"
      ]
     },
     "execution_count": 72,
     "metadata": {},
     "output_type": "execute_result"
    }
   ],
   "source": [
    "y"
   ]
  },
  {
   "cell_type": "code",
   "execution_count": null,
   "metadata": {
    "collapsed": true
   },
   "outputs": [],
   "source": []
  }
 ],
 "metadata": {
  "kernelspec": {
   "display_name": "Python 2",
   "language": "python",
   "name": "python2"
  },
  "language_info": {
   "codemirror_mode": {
    "name": "ipython",
    "version": 2
   },
   "file_extension": ".py",
   "mimetype": "text/x-python",
   "name": "python",
   "nbconvert_exporter": "python",
   "pygments_lexer": "ipython2",
   "version": "2.7.10"
  }
 },
 "nbformat": 4,
 "nbformat_minor": 0
}
