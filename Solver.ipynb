{
 "cells": [
  {
   "cell_type": "code",
   "execution_count": 2,
   "metadata": {
    "collapsed": true
   },
   "outputs": [],
   "source": [
    "import numpy as np\n",
    "import sympy as sp\n",
    "from scipy.optimize import fsolve\n",
    "t, y = sp.symbols(\"t y\", real=True)"
   ]
  },
  {
   "cell_type": "code",
   "execution_count": 69,
   "metadata": {
    "collapsed": false
   },
   "outputs": [],
   "source": [
    "#def f(y):\n",
    "#    y1, y2 = y\n",
    "#    return np.array([-y1**2, y2**(1./2.)])\n",
    "#def df(y):\n",
    "#    y1, y2 = y\n",
    "#    return np.array([[-2.*y1, 0], [0, 0.5*y2**(-0.5)]])\n",
    "def f(y):\n",
    "    y1, y2 = y\n",
    "    return np.array([-y1 + y2, 3*y1 - 7*y2])\n",
    "\n",
    "def df(y):\n",
    "    y1, y2 = y\n",
    "    return np.array([[-1., 1.], [3., -7.]])\n",
    "\n",
    "def sol(y):\n",
    "    return np.array([1./(1. + y), ((1./4.)*(y - 2)**2)])\n",
    "## y = y_i+1\n",
    "def F(y, y_i, h, f):\n",
    "    return y - y_i - h*f(y)\n",
    "\n",
    "def dF(y, h, df):\n",
    "    return 1. - h*df(y)\n",
    "\n",
    "def newton(y_0, h, f, df, maxiter = 10000, tol = 1e-10):\n",
    "    y = y_0.copy()\n",
    "    for j in range(maxiter):\n",
    "        ##w = F(t, y, y_0, h)/dF(t, y, h)\n",
    "        w = np.linalg.solve(dF(y, h, df), -1*F(y, y_0, h, f))\n",
    "        y += w\n",
    "        if np.linalg.norm(F(y, y_0, h, f)) < tol:\n",
    "            break\n",
    "    return y\n",
    "\n",
    "def solver(f, df, h, y_0, t_0, t_f):\n",
    "    n = int((t_f-t_0)/h)\n",
    "    y = np.zeros((n+1,len(y_0)))\n",
    "    trange = np.linspace(t_0, t_f, n+1)\n",
    "    y[0] = y_0\n",
    "    for i in range(1,n+1):\n",
    "        #y[i] = fsolve(F, x0 = y[i-1], args = (y[i-1], h))\n",
    "        y[i] = newton(y[i-1], h, f, df)\n",
    "    return y, trange\n",
    "    "
   ]
  },
  {
   "cell_type": "code",
   "execution_count": 73,
   "metadata": {
    "collapsed": false,
    "scrolled": true
   },
   "outputs": [
    {
     "name": "stdout",
     "output_type": "stream",
     "text": [
      "[[ 0.          0.        ]\n",
      " [-0.10869565  0.15782609]\n",
      " [-0.1521289   0.15165721]\n",
      " [-0.16379117  0.08932605]\n",
      " [-0.15938416  0.01431759]\n",
      " [-0.14673616 -0.05571838]]\n"
     ]
    }
   ],
   "source": [
    "y, t = solver(f, df, 0.2, np.array([1,1]), 0, 1)\n",
    "print sol(t).T - y"
   ]
  },
  {
   "cell_type": "code",
   "execution_count": 74,
   "metadata": {
    "collapsed": false,
    "scrolled": true
   },
   "outputs": [
    {
     "data": {
      "text/plain": [
       "array([[ 1.        ,  1.        ],\n",
       "       [ 0.83333333,  0.81      ],\n",
       "       [ 0.71428571,  0.64      ],\n",
       "       [ 0.625     ,  0.49      ],\n",
       "       [ 0.55555556,  0.36      ],\n",
       "       [ 0.5       ,  0.25      ]])"
      ]
     },
     "execution_count": 74,
     "metadata": {},
     "output_type": "execute_result"
    }
   ],
   "source": [
    "sol(t).T"
   ]
  },
  {
   "cell_type": "code",
   "execution_count": 75,
   "metadata": {
    "collapsed": false
   },
   "outputs": [
    {
     "data": {
      "text/plain": [
       "array([[ 1.        ,  1.        ],\n",
       "       [ 0.94202899,  0.65217391],\n",
       "       [ 0.86641462,  0.48834279],\n",
       "       [ 0.78879117,  0.40067395],\n",
       "       [ 0.71493971,  0.34568241],\n",
       "       [ 0.64673616,  0.30571838]])"
      ]
     },
     "execution_count": 75,
     "metadata": {},
     "output_type": "execute_result"
    }
   ],
   "source": [
    "y"
   ]
  },
  {
   "cell_type": "code",
   "execution_count": 50,
   "metadata": {
    "collapsed": false
   },
   "outputs": [
    {
     "data": {
      "text/plain": [
       "array([ 0. ,  0.8])"
      ]
     },
     "execution_count": 50,
     "metadata": {},
     "output_type": "execute_result"
    }
   ],
   "source": [
    "F(np.array([1,1]), np.array([1,1]), 0.2, f)"
   ]
  },
  {
   "cell_type": "code",
   "execution_count": 49,
   "metadata": {
    "collapsed": false
   },
   "outputs": [
    {
     "data": {
      "text/plain": [
       "array([[ 1.2,  0.8],\n",
       "       [ 0.4,  2.4]])"
      ]
     },
     "execution_count": 49,
     "metadata": {},
     "output_type": "execute_result"
    }
   ],
   "source": [
    "dF(np.array([0,0]), 0.2, df)"
   ]
  },
  {
   "cell_type": "code",
   "execution_count": 52,
   "metadata": {
    "collapsed": false
   },
   "outputs": [
    {
     "name": "stdout",
     "output_type": "stream",
     "text": [
      "[ 0.25  -0.375]\n"
     ]
    }
   ],
   "source": [
    "w = np.linalg.solve(dF(np.array([0,0]), 0.2, df), -1*F(np.array([1,1]), np.array([1,1]), 0.2, f))\n",
    "print w"
   ]
  },
  {
   "cell_type": "code",
   "execution_count": 54,
   "metadata": {
    "collapsed": false
   },
   "outputs": [
    {
     "name": "stdout",
     "output_type": "stream",
     "text": [
      "[-0.4296875   0.17578125]\n"
     ]
    }
   ],
   "source": [
    "w = np.linalg.solve(dF(np.array([0,0]), 0.2, df), -1*F(np.array([1+0.25,1-0.375]), np.array([1,1]), 0.2, f))\n",
    "print w"
   ]
  },
  {
   "cell_type": "code",
   "execution_count": 55,
   "metadata": {
    "collapsed": false
   },
   "outputs": [
    {
     "name": "stdout",
     "output_type": "stream",
     "text": [
      "[ 0.29907227 -0.22888184]\n"
     ]
    }
   ],
   "source": [
    "w = np.linalg.solve(dF(np.array([0,0]), 0.2, df), -1*F(np.array([1+0.25-0.4296875,1-0.375+0.17578125]), np.array([1,1]), 0.2, f))\n",
    "print w"
   ]
  },
  {
   "cell_type": "code",
   "execution_count": null,
   "metadata": {
    "collapsed": true
   },
   "outputs": [],
   "source": []
  }
 ],
 "metadata": {
  "kernelspec": {
   "display_name": "Python 2",
   "language": "python",
   "name": "python2"
  },
  "language_info": {
   "codemirror_mode": {
    "name": "ipython",
    "version": 2
   },
   "file_extension": ".py",
   "mimetype": "text/x-python",
   "name": "python",
   "nbconvert_exporter": "python",
   "pygments_lexer": "ipython2",
   "version": "2.7.10"
  }
 },
 "nbformat": 4,
 "nbformat_minor": 0
}
