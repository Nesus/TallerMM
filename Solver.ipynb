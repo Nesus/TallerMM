{
 "cells": [
  {
   "cell_type": "code",
   "execution_count": 49,
   "metadata": {
    "collapsed": true
   },
   "outputs": [],
   "source": [
    "import numpy as np\n",
    "import sympy as sp\n",
    "from scipy.optimize import fsolve"
   ]
  },
  {
   "cell_type": "code",
   "execution_count": 82,
   "metadata": {
    "collapsed": false
   },
   "outputs": [],
   "source": [
    "#def f(y):\n",
    "#    y1, y2 = y\n",
    "#    return np.array([-y1**2, y2**(1./2.)])\n",
    "#def df(y):\n",
    "#    y1, y2 = y\n",
    "#    return np.array([[-2.*y1, 0], [0, 0.5*y2**(-0.5)]])\n",
    "def f(y):\n",
    "    y1, y2 = y\n",
    "    return np.array([-y1 + y2, 3*y1 - 7*y2])\n",
    "\n",
    "def df(y):\n",
    "    y1, y2 = y\n",
    "    return np.array([[-1., 1.], [3., -7.]])\n",
    "\n",
    "def sol(y):\n",
    "    return np.array([1./(1. + y), ((1./4.)*(y - 2)**2)])\n",
    "## y = y_i+1\n",
    "def F(y, y_0, h, f):\n",
    "    return y - y_0 - h*f(y)\n",
    "\n",
    "## Implicit midpoint Rule\n",
    "def Fi(y, y_0, h, f):\n",
    "    return y - y_0 - h*f((y+y_0)*0.5)\n",
    "\n",
    "\n",
    "def dF(y, h, df):\n",
    "    return 1. - h*df(y)\n",
    "\n",
    "def newton(y_0, h, f, df, maxiter = 10000, tol = 1e-10):\n",
    "    #Initial Guess\n",
    "    y = y_0.copy()\n",
    "    for j in range(maxiter):\n",
    "        #Save last value\n",
    "        y_a = y\n",
    "        #Step calculation with Implicit Midpoint Rule\n",
    "        w = np.linalg.solve(dF(y, h, df), -1*Fi(y, y_0, h, f))\n",
    "        y += w\n",
    "        if np.linalg.norm(F(y, y_0, h, f)) < tol:\n",
    "            break\n",
    "    return y\n",
    "\n",
    "def solver(f, df, h, y_0, t_0, t_f):\n",
    "    n = int((t_f-t_0)/h)\n",
    "    y = np.zeros((n+1,len(y_0)))\n",
    "    trange = np.linspace(t_0, t_f, n+1)\n",
    "    y[0] = y_0\n",
    "    for i in range(1,n+1):\n",
    "        y[i] = newton(y[i-1], h, f, df)\n",
    "    return y, trange\n",
    "    "
   ]
  },
  {
   "cell_type": "code",
   "execution_count": 94,
   "metadata": {
    "collapsed": false,
    "scrolled": true
   },
   "outputs": [
    {
     "name": "stdout",
     "output_type": "stream",
     "text": [
      "[[ 0.          0.        ]\n",
      " [ 0.09183916  0.21937734]\n",
      " [ 0.13603529  0.25326995]\n",
      " [ 0.1567019   0.22017899]\n",
      " [ 0.16461916  0.1653636 ]\n",
      " [ 0.16501861  0.10614699]\n",
      " [ 0.16069916  0.04919476]\n",
      " [ 0.15331195  0.00289564]\n",
      " [ 0.14391469  0.04908161]]\n"
     ]
    }
   ],
   "source": [
    "y, t = solver(f, df, 0.12, np.array([1,1]), 0, 1)\n",
    "print abs(sol(t).T - y)"
   ]
  },
  {
   "cell_type": "code",
   "execution_count": 84,
   "metadata": {
    "collapsed": false,
    "scrolled": true
   },
   "outputs": [
    {
     "data": {
      "text/plain": [
       "array([[ 1.        ,  1.        ],\n",
       "       [ 0.83333333,  0.81      ],\n",
       "       [ 0.71428571,  0.64      ],\n",
       "       [ 0.625     ,  0.49      ],\n",
       "       [ 0.55555556,  0.36      ],\n",
       "       [ 0.5       ,  0.25      ]])"
      ]
     },
     "execution_count": 84,
     "metadata": {},
     "output_type": "execute_result"
    }
   ],
   "source": [
    "sol(t).T"
   ]
  },
  {
   "cell_type": "code",
   "execution_count": 90,
   "metadata": {
    "collapsed": false
   },
   "outputs": [
    {
     "data": {
      "text/plain": [
       "array([[ 1.        ,  1.        ],\n",
       "       [ 0.97518359,  0.62066346],\n",
       "       [ 0.9195619 ,  0.47948652],\n",
       "       [ 0.85773778,  0.41461145],\n",
       "       [ 0.79717751,  0.37515708],\n",
       "       [ 0.73999074,  0.34505735],\n",
       "       [ 0.68662387,  0.31917337],\n",
       "       [ 0.63701718,  0.2958007 ]])"
      ]
     },
     "execution_count": 90,
     "metadata": {},
     "output_type": "execute_result"
    }
   ],
   "source": [
    "y"
   ]
  },
  {
   "cell_type": "code",
   "execution_count": 39,
   "metadata": {
    "collapsed": false
   },
   "outputs": [
    {
     "name": "stdout",
     "output_type": "stream",
     "text": [
      "(array([-0.53589838, -7.46410162]), array([[ 0.90707274, -0.15288195],\n",
      "       [ 0.42097392,  0.98824446]]))\n"
     ]
    }
   ],
   "source": [
    "A = np.array([[-1,1], [3,-7]])\n",
    "print np.linalg.eig(A)"
   ]
  },
  {
   "cell_type": "code",
   "execution_count": 59,
   "metadata": {
    "collapsed": false
   },
   "outputs": [
    {
     "data": {
      "text/plain": [
       "0.10717967697244912"
      ]
     },
     "execution_count": 59,
     "metadata": {},
     "output_type": "execute_result"
    }
   ],
   "source": [
    "-0.2*np.linalg.eig(A)[0][0]"
   ]
  },
  {
   "cell_type": "code",
   "execution_count": null,
   "metadata": {
    "collapsed": true
   },
   "outputs": [],
   "source": []
  }
 ],
 "metadata": {
  "kernelspec": {
   "display_name": "Python 2",
   "language": "python",
   "name": "python2"
  },
  "language_info": {
   "codemirror_mode": {
    "name": "ipython",
    "version": 2
   },
   "file_extension": ".py",
   "mimetype": "text/x-python",
   "name": "python",
   "nbconvert_exporter": "python",
   "pygments_lexer": "ipython2",
   "version": "2.7.10"
  }
 },
 "nbformat": 4,
 "nbformat_minor": 0
}
