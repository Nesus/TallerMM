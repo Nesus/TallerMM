{
 "cells": [
  {
   "cell_type": "code",
   "execution_count": 1,
   "metadata": {
    "collapsed": false
   },
   "outputs": [],
   "source": [
    "import numpy as np\n",
    "from pyfigtree import figtree\n",
    "from sklearn import preprocessing"
   ]
  },
  {
   "cell_type": "code",
   "execution_count": 2,
   "metadata": {
    "collapsed": true
   },
   "outputs": [],
   "source": [
    "def direct_evaluation(S,T,weights,delta):\n",
    "    _,d = weights.shape\n",
    "    checkPot = []\n",
    "    for target in T:\n",
    "        # for each source, add to potential at current target\n",
    "        s_index = np.any(S != target,axis=1)\n",
    "        S = S[s_index,:]\n",
    "        weights = weights[s_index,:]\n",
    "        norm = np.linalg.norm(S-target, axis=1)\n",
    "        potential = np.exp(-norm**2 /delta)[:, np.newaxis]*weights\n",
    "        cum_potential = np.sum(potential,axis=0)\n",
    "        checkPot.append(cum_potential)\n",
    "\n",
    "    checkPot = np.sort(checkPot)\n",
    "    return checkPot"
   ]
  },
  {
   "cell_type": "code",
   "execution_count": 3,
   "metadata": {
    "collapsed": false
   },
   "outputs": [
    {
     "data": {
      "text/plain": [
       "array([-1.88285369, -1.16356525, -1.00425611, ...,  0.04658418,\n",
       "        0.05333525,  0.05515643])"
      ]
     },
     "execution_count": 3,
     "metadata": {},
     "output_type": "execute_result"
    }
   ],
   "source": [
    "delta = 1\n",
    "\n",
    "\n",
    "#Direct Evaluation Test with sphere data\n",
    "X = np.loadtxt('data/sphere_x.txt')\n",
    "Y = np.loadtxt('data/sphere_y.txt')\n",
    "Z = np.loadtxt('data/sphere_z.txt')\n",
    "\n",
    "X0 = np.dstack((X,Y,Z))[0]\n",
    "\n",
    "X = np.loadtxt('data/alpha0_x.txt')\n",
    "Y = np.loadtxt('data/alpha0_y.txt')\n",
    "Z = np.loadtxt('data/alpha0_z.txt')\n",
    "\n",
    "alpha0 = np.dstack((X,Y,Z))[0]\n",
    "\n",
    "#Calculating direct Evaluation\n",
    "cp = direct_evaluation(X0, X0, alpha0, delta)\n",
    "cp = cp[:,0]\n",
    "cp.sort()\n",
    "cp"
   ]
  },
  {
   "cell_type": "code",
   "execution_count": 8,
   "metadata": {
    "collapsed": false
   },
   "outputs": [
    {
     "ename": "AssertionError",
     "evalue": "",
     "output_type": "error",
     "traceback": [
      "\u001b[1;31m---------------------------------------------------------------------------\u001b[0m",
      "\u001b[1;31mAssertionError\u001b[0m                            Traceback (most recent call last)",
      "\u001b[1;32m<ipython-input-8-324d6adb6568>\u001b[0m in \u001b[0;36m<module>\u001b[1;34m()\u001b[0m\n\u001b[1;32m----> 1\u001b[1;33m \u001b[0mcp\u001b[0m \u001b[1;33m=\u001b[0m \u001b[0mfigtree\u001b[0m\u001b[1;33m(\u001b[0m\u001b[0mX0\u001b[0m\u001b[1;33m,\u001b[0m\u001b[0mX0\u001b[0m\u001b[1;33m,\u001b[0m\u001b[0malpha0\u001b[0m\u001b[1;33m,\u001b[0m \u001b[1;36m1\u001b[0m\u001b[1;33m,\u001b[0m\u001b[0mepsilon\u001b[0m\u001b[1;33m=\u001b[0m\u001b[1;36m1e-16\u001b[0m\u001b[1;33m,\u001b[0m \u001b[0meval\u001b[0m\u001b[1;33m=\u001b[0m\u001b[1;34m\"auto\"\u001b[0m\u001b[1;33m,\u001b[0m \u001b[0mverbose\u001b[0m\u001b[1;33m=\u001b[0m\u001b[0mTrue\u001b[0m\u001b[1;33m)\u001b[0m\u001b[1;33m\u001b[0m\u001b[0m\n\u001b[0m\u001b[0;32m      2\u001b[0m \u001b[0mcp\u001b[0m\u001b[1;33m.\u001b[0m\u001b[0msort\u001b[0m\u001b[1;33m(\u001b[0m\u001b[1;33m)\u001b[0m\u001b[1;33m\u001b[0m\u001b[0m\n",
      "\u001b[1;32m/home/tronco/Escritorio/TallerMM/pyfigtree.pyc\u001b[0m in \u001b[0;36mfigtree\u001b[1;34m(samples, targets, weights, bandwidth, epsilon, eval, trunc, param, verbose)\u001b[0m\n\u001b[0;32m    153\u001b[0m         \u001b[1;31m# assume one row per weights if several exist\u001b[0m\u001b[1;33m\u001b[0m\u001b[1;33m\u001b[0m\u001b[0m\n\u001b[0;32m    154\u001b[0m         \u001b[0mW\u001b[0m \u001b[1;33m=\u001b[0m \u001b[0mweights\u001b[0m\u001b[1;33m.\u001b[0m\u001b[0mshape\u001b[0m\u001b[1;33m[\u001b[0m\u001b[1;36m0\u001b[0m\u001b[1;33m]\u001b[0m\u001b[1;33m\u001b[0m\u001b[0m\n\u001b[1;32m--> 155\u001b[1;33m         \u001b[1;32massert\u001b[0m\u001b[1;33m(\u001b[0m\u001b[0mweights\u001b[0m\u001b[1;33m.\u001b[0m\u001b[0mshape\u001b[0m\u001b[1;33m[\u001b[0m\u001b[1;33m-\u001b[0m\u001b[1;36m1\u001b[0m\u001b[1;33m]\u001b[0m \u001b[1;33m==\u001b[0m \u001b[0mN\u001b[0m\u001b[1;33m)\u001b[0m\u001b[1;33m\u001b[0m\u001b[0m\n\u001b[0m\u001b[0;32m    156\u001b[0m \u001b[1;33m\u001b[0m\u001b[0m\n\u001b[0;32m    157\u001b[0m     \u001b[0mconf\u001b[0m \u001b[1;33m=\u001b[0m \u001b[0mFigtreeConfig\u001b[0m\u001b[1;33m(\u001b[0m\u001b[1;33m)\u001b[0m\u001b[1;33m\u001b[0m\u001b[0m\n",
      "\u001b[1;31mAssertionError\u001b[0m: "
     ]
    }
   ],
   "source": [
    "cp = figtree(X0,X0,alpha0[:,0], 1,epsilon=1e-16, eval=\"auto\", verbose=True)\n",
    "cp.sort()"
   ]
  },
  {
   "cell_type": "code",
   "execution_count": null,
   "metadata": {
    "collapsed": true
   },
   "outputs": [],
   "source": []
  }
 ],
 "metadata": {
  "kernelspec": {
   "display_name": "Python 2",
   "language": "python",
   "name": "python2"
  },
  "language_info": {
   "codemirror_mode": {
    "name": "ipython",
    "version": 2
   },
   "file_extension": ".py",
   "mimetype": "text/x-python",
   "name": "python",
   "nbconvert_exporter": "python",
   "pygments_lexer": "ipython2",
   "version": "2.7.10"
  }
 },
 "nbformat": 4,
 "nbformat_minor": 0
}
