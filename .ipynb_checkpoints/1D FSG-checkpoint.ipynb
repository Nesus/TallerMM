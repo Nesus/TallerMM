{
 "cells": [
  {
   "cell_type": "code",
   "execution_count": 106,
   "metadata": {
    "collapsed": false
   },
   "outputs": [],
   "source": [
    "import random\n",
    "import numpy as np\n",
    "import math"
   ]
  },
  {
   "cell_type": "code",
   "execution_count": 119,
   "metadata": {
    "collapsed": false
   },
   "outputs": [],
   "source": [
    "def FMM(z, charges, points, precision, r):\n",
    "    \n",
    "    M, = charges.shape\n",
    "    n = math.log(M,4)\n",
    "    p = int(round(abs(math.log(precision,2))))\n",
    "    step = (np.max(points) - np.min(points))/ n\n",
    "    a_k = precalc_ak(charges,points,p)\n",
    "    \n",
    "    near_index = np.logical_and(points>(z-r),points < (z+r))\n",
    "    near_influence = near_field(z, charges[near_index],\n",
    "                                points[near_index])\n",
    "    \n",
    "    \n",
    "    far_index = np.logical_not(near_index)\n",
    "    far_influence = far_field(z, charges[far_index] , points[far_index], a_k)\n",
    "    print near_influence\n",
    "    print charges[near_index]\n",
    "    print charges\n",
    "    \n",
    "    #far_influence = \n",
    "\n",
    "    \n",
    "def precalc_ak(charges,points, p):\n",
    "    k = np.arange(1,p+1)\n",
    "    m = len(points)\n",
    "    k_mat = np.repeat(k,m).reshape((p,m))\n",
    "    \n",
    "    z_k = np.power(points,k_mat)\n",
    "    mult = np.multiply(z_k,-charges)\n",
    "    div = np.sum(mult, axis=1) / (k)\n",
    "    return div\n",
    "\n",
    "def near_field(z,charges,points):\n",
    "    z_points = abs(z - points)\n",
    "    z_points = z_points[z_points != 0]\n",
    "    log_z = np.log(z_points)\n",
    "    q_z = charges[(z-points) != 0] * log_z\n",
    "    \n",
    "    inter = np.sum(q_z)\n",
    "    return inter\n",
    "\n",
    "def far_field(z,charges,points,a_k):\n",
    "    print charges\n",
    "    pass    "
   ]
  },
  {
   "cell_type": "code",
   "execution_count": 120,
   "metadata": {
    "collapsed": false
   },
   "outputs": [
    {
     "name": "stdout",
     "output_type": "stream",
     "text": [
      "[]\n",
      "37.0286577679\n",
      "[ -9 -10   2   3   6  -9   8   4  -9  -3]\n",
      "[ -9 -10   2   3   6  -9   8   4  -9  -3]\n"
     ]
    }
   ],
   "source": [
    "np.random.seed(3541012312)\n",
    "size = 10\n",
    "charges = np.random.randint(-10,10,size)\n",
    "points = np.random.rand(size)\n",
    "\n",
    "zindex = np.random.randint(len(points))\n",
    "z = points[zindex]\n",
    "r = 1e-2\n",
    "#r = 1000\n",
    "\n",
    "FMM(z,charges,points, 1e-6, r)\n"
   ]
  },
  {
   "cell_type": "code",
   "execution_count": null,
   "metadata": {
    "collapsed": true
   },
   "outputs": [],
   "source": []
  },
  {
   "cell_type": "code",
   "execution_count": null,
   "metadata": {
    "collapsed": true
   },
   "outputs": [],
   "source": []
  }
 ],
 "metadata": {
  "kernelspec": {
   "display_name": "Python 2",
   "language": "python",
   "name": "python2"
  },
  "language_info": {
   "codemirror_mode": {
    "name": "ipython",
    "version": 2
   },
   "file_extension": ".py",
   "mimetype": "text/x-python",
   "name": "python",
   "nbconvert_exporter": "python",
   "pygments_lexer": "ipython2",
   "version": "2.7.10"
  }
 },
 "nbformat": 4,
 "nbformat_minor": 0
}
