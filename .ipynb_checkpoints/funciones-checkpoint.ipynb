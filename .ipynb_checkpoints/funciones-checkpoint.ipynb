{
 "cells": [
  {
   "cell_type": "code",
   "execution_count": 51,
   "metadata": {
    "collapsed": false
   },
   "outputs": [],
   "source": [
    "import numpy as np\n",
    "from pyfigtree import figtree\n",
    "from scipy.optimize import fsolve\n",
    "from scipy.integrate import odeint"
   ]
  },
  {
   "cell_type": "code",
   "execution_count": 41,
   "metadata": {
    "collapsed": false
   },
   "outputs": [],
   "source": [
    "sigma = 6.5 * (2**0.5)\n",
    "\n",
    "X = np.loadtxt('data/sphere_x.txt')\n",
    "Y = np.loadtxt('data/sphere_y.txt')\n",
    "Z = np.loadtxt('data/sphere_z.txt')\n",
    "\n",
    "X0 = np.hstack((X,Y,Z))\n",
    "\n",
    "XF = np.loadtxt('data/vent_x.txt')\n",
    "YF = np.loadtxt('data/vent_y.txt')\n",
    "ZF = np.loadtxt('data/vent_z.txt')\n",
    "\n",
    "X1 = np.hstack((XF,YF,ZF))\n",
    "\n",
    "A = np.loadtxt('data/alpha0_x.txt')\n",
    "B = np.loadtxt('data/alpha0_y.txt')\n",
    "C = np.loadtxt('data/alpha0_z.txt')\n",
    "\n",
    "alpha0 = np.hstack((A,B,C))"
   ]
  },
  {
   "cell_type": "code",
   "execution_count": 42,
   "metadata": {
    "collapsed": true
   },
   "outputs": [],
   "source": [
    "def position(X,alpha,delta):\n",
    "    X_x = figtree(X,X,alpha[:,0], delta,epsilon=1e-16, eval=\"auto\")\n",
    "    X_y = figtree(X,X,alpha[:,1], delta,epsilon=1e-16, eval=\"auto\")\n",
    "    X_z = figtree(X,X,alpha[:,2], delta,epsilon=1e-16, eval=\"auto\") \n",
    "    return np.dstack([X_x,X_y, X_z])[0]"
   ]
  },
  {
   "cell_type": "code",
   "execution_count": 43,
   "metadata": {
    "collapsed": true
   },
   "outputs": [],
   "source": [
    "def momentum(X,alpha,delta):\n",
    "    ax = alpha[:,0]\n",
    "    ay = alpha[:,1]\n",
    "    az = alpha[:,2]\n",
    "    \n",
    "    first_weights = np.dstack([ax * X[:,0], ax * X[:,1], ax * X[:,2]])[0]\n",
    "    second_weights = np.dstack([ay * X[:,0], ay * X[:,1], ay * X[:,2]])[0]\n",
    "    third_weights = np.dstack([az * X[:,0], az * X[:,1], az * X[:,2]])[0]\n",
    "    \n",
    "    first_sum_x = figtree(X,X,first_weights[:,0],delta, epsilon=1e-16, eval=\"auto\")\n",
    "    first_sum_y = figtree(X,X,first_weights[:,1],delta, epsilon=1e-16, eval=\"auto\")\n",
    "    first_sum_z = figtree(X,X,first_weights[:,2],delta, epsilon=1e-16, eval=\"auto\")\n",
    "    \n",
    "    \n",
    "    second_sum_x = figtree(X,X,second_weights[:,0],delta, epsilon=1e-16, eval=\"auto\")\n",
    "    second_sum_y = figtree(X,X,second_weights[:,1],delta, epsilon=1e-16, eval=\"auto\")\n",
    "    second_sum_z = figtree(X,X,second_weights[:,2],delta, epsilon=1e-16, eval=\"auto\")\n",
    "    \n",
    "    \n",
    "    third_sum_x = figtree(X,X,third_weights[:,0],delta, epsilon=1e-16, eval=\"auto\")\n",
    "    third_sum_y = figtree(X,X,third_weights[:,1],delta, epsilon=1e-16, eval=\"auto\")\n",
    "    third_sum_z = figtree(X,X,third_weights[:,2],delta, epsilon=1e-16, eval=\"auto\")\n",
    "    \n",
    "    fourth_sum = figtree(X,X,ax,delta, epsilon=1e-16, eval=\"auto\")\n",
    "    fifth_sum = figtree(X,X,ay,delta, epsilon=1e-16, eval=\"auto\")\n",
    "    sixth_sum = figtree(X,X,az,delta, epsilon=1e-16, eval=\"auto\")\n",
    "    \n",
    "    second_term = ax * fourth_sum + ay * fifth_sum + az * sixth_sum\n",
    "    \n",
    "    second_term_x = X[:,0] * second_term\n",
    "    second_term_y = X[:,1] * second_term\n",
    "    second_term_z = X[:,2] * second_term\n",
    " \n",
    "    mult = -2./(delta ** 2)\n",
    "    result_x = mult*(ax* first_sum_x + ay * second_sum_x + az * third_sum_x - (second_term_x) )\n",
    "    result_y = mult*(ax* first_sum_y + ay * second_sum_y + az * third_sum_y - (second_term_y) )\n",
    "    result_z = mult*(ax* first_sum_z + ay * second_sum_z + az * third_sum_z - (second_term_z) )\n",
    "    result = np.dstack([result_x,result_y,result_z])[0]\n",
    "    \n",
    "    return result"
   ]
  },
  {
   "cell_type": "code",
   "execution_count": 44,
   "metadata": {
    "collapsed": true
   },
   "outputs": [],
   "source": [
    "def f(vector, delta):\n",
    "    positions, momentums = np.split(vector,2)\n",
    "    positions = np.reshape(positions,(3,len(positions)/3)).T\n",
    "    momentums = np.reshape(momentums,(3,len(momentums)/3)).T\n",
    "    new_positions = position(positions, momentums,delta)\n",
    "    new_momentums = momentum(positions, momentums,delta)\n",
    "    n,m = new_positions.shape\n",
    "    new_positions = np.reshape(new_positions.T, (n*m))\n",
    "    new_momentums = np.reshape(new_momentums.T, (n*m))\n",
    "    return np.hstack([new_positions,new_momentums])"
   ]
  },
  {
   "cell_type": "code",
   "execution_count": 45,
   "metadata": {
    "collapsed": false
   },
   "outputs": [],
   "source": [
    "# Intento de primer jacobiano\n",
    "def df1dx(X, alpha, sigma):\n",
    "    mult = -2/(sigma ** 2)\n",
    "    \n",
    "    X_x, X_y, X_z = np.split(X, 3)\n",
    "    X_x = X_x.reshape(1, X_x.shape[0])\n",
    "    X_y = X_y.reshape(1, X_y.shape[0])\n",
    "    X_z = X_z.reshape(1, X_z.shape[0])\n",
    "    \n",
    "    a_x, a_y, a_z = np.split(alpha, 3)\n",
    "    a_x = a_x.reshape(1, a_x.shape[0])\n",
    "    a_y = a_y.reshape(1, a_y.shape[0])\n",
    "    a_z = a_z.reshape(1, a_z.shape[0])\n",
    "    \n",
    "    ones = np.ones((1, X_x.shape[1]))\n",
    "    \n",
    "    X_x_square = X_x * ones.T\n",
    "    X_y_square = X_y * ones.T\n",
    "    X_z_square = X_z * ones.T\n",
    "    \n",
    "    X_x_diff = X_x_square - X_x_square.T\n",
    "    X_y_diff = X_y_square - X_y_square.T\n",
    "    X_z_diff = X_z_square - X_z_square.T\n",
    "    \n",
    "    X_diff = np.sqrt(X_x_diff ** 2 + X_y_diff ** 2 + X_z_diff ** 2)\n",
    "    \n",
    "    exp = np.exp(-(X_diff ** 2)/(sigma ** 2))\n",
    "    \n",
    "    dX_x = exp * X_x_diff * a_x\n",
    "    dX_y = exp * X_y_diff * a_y\n",
    "    dX_y = exp * X_y_diff * a_y\n",
    "    \n",
    "    print dX_x\n",
    "    "
   ]
  },
  {
   "cell_type": "code",
   "execution_count": 46,
   "metadata": {
    "collapsed": false
   },
   "outputs": [
    {
     "name": "stdout",
     "output_type": "stream",
     "text": [
      "[[ -0.00000000e+00   8.06407601e-09  -3.75531476e-05 ...,   2.20768987e-02\n",
      "    7.33692313e-03   1.82376408e-02]\n",
      " [ -2.92703952e-07  -0.00000000e+00   3.75531476e-05 ...,  -9.48442816e-06\n",
      "   -6.15718881e-06  -7.83504949e-06]\n",
      " [ -3.13217641e-04   8.62923391e-06   0.00000000e+00 ...,  -5.35514472e-06\n",
      "   -1.42741659e-06  -2.92221335e-06]\n",
      " ..., \n",
      " [ -1.21476601e-02   1.43777771e-07  -3.53285577e-07 ...,  -0.00000000e+00\n",
      "    2.85923544e-02  -0.00000000e+00]\n",
      " [ -9.09507871e-03   2.10281463e-07  -2.12150159e-07 ...,  -6.44151235e-02\n",
      "   -0.00000000e+00  -5.32130714e-02]\n",
      " [ -1.21476629e-02   1.43777804e-07  -2.33365216e-07 ...,  -0.00000000e+00\n",
      "    2.85923538e-02  -0.00000000e+00]]\n"
     ]
    }
   ],
   "source": [
    "df1dx(X0, alpha0, sigma)"
   ]
  },
  {
   "cell_type": "code",
   "execution_count": 47,
   "metadata": {
    "collapsed": false
   },
   "outputs": [
    {
     "name": "stdout",
     "output_type": "stream",
     "text": [
      "momentum0 -29.746298 -33.989227 87.78351\n",
      "momentum0 98.7221070717\n",
      "[  2.43804976e-13   3.39284156e-13   1.22568622e-13]\n",
      "momentum1 -29.746298 -33.989227 87.78351\n",
      "momentum1 98.7221070717\n",
      "[ 65.949541  29.949541  47.949541 ...,  39.114004  39.114004  40.087333]\n",
      "[ 65.94656081  29.8918754   47.95193877 ...,  39.13619889  39.13314077\n",
      "  40.114768  ]\n",
      "[-0.00298019 -0.0576656   0.00239777 ...,  0.02219489  0.01913677  0.027435  ]\n"
     ]
    }
   ],
   "source": [
    "vector0 = np.hstack((X0, alpha0))\n",
    "diff = f(vector0, sigma)\n",
    "dx, dm = np.split(diff,2)\n",
    "\n",
    "alpha0 = np.reshape(alpha0,(3,len(alpha0)/3)).T\n",
    "print \"momentum0\", np.sum(alpha0[:,0]), np.sum(alpha0[:,1]), np.sum(alpha0[:,2])\n",
    "print \"momentum0\", (np.sum(alpha0[:,0]) ** 2 + np.sum(alpha0[:,1]) ** 2 + np.sum(alpha0[:,2]) ** 2) ** 0.5\n",
    "\n",
    "dm = np.reshape(dm,(3,len(dm)/3)).T\n",
    "print np.sum(dm, axis=0)\n",
    "alpha1 = alpha0 + (dm * 0.01)\n",
    "X1 = X0 + (dx * 0.01)\n",
    "print \"momentum1\", np.sum(alpha1[:,0]), np.sum(alpha1[:,1]), np.sum(alpha1[:,2])\n",
    "print \"momentum1\", (np.sum(alpha1[:,0]) ** 2 +  np.sum(alpha1[:,1]) ** 2 + np.sum(alpha1[:,2]) ** 2) ** 0.5\n",
    "print X0\n",
    "print X1\n",
    "print X1- X0"
   ]
  },
  {
   "cell_type": "code",
   "execution_count": 56,
   "metadata": {
    "collapsed": true
   },
   "outputs": [],
   "source": [
    "def shoot(alpha, x_a, x_b, sigma,steps):\n",
    "    #Making lambda function to integrate\n",
    "    g = lambda y,t: f(y,sigma)\n",
    "    \n",
    "    x_i = x_a\n",
    "    a_i = alpha\n",
    "    \n",
    "    #Linealizing vectors\n",
    "    n,m = x_i.shape\n",
    "    x_i = np.reshape(x_i.T, (n*m))\n",
    "    a_i = np.reshape(a_i.T, (n*m))\n",
    "    \n",
    "    vector = np.hstack([x_i,a_i])\n",
    "    t = np.linspace(0,1,steps)\n",
    "    matrix = odeint(g,vector,t)\n",
    "    \n",
    "    vector = matrix[-1]\n",
    "    x_i, momentums = np.split(vector,2)\n",
    "    x_i = np.reshape(positions,(3,len(positions)/3)).T\n",
    "    momentums = np.reshape(momentums,(3,len(momentums)/3)).T  \n",
    "    print np.sum(x_i - x_b)/np.sum(x_b)\n",
    "    return x_i - x_b"
   ]
  },
  {
   "cell_type": "code",
   "execution_count": 57,
   "metadata": {
    "collapsed": true
   },
   "outputs": [],
   "source": [
    "def shootingMethod(x_a, x_b, alpha0, steps, sigma):\n",
    "    alpha = fsolve(shoot, alpha0, (x_a,x_b,sigma,steps))\n",
    "    return alpha"
   ]
  },
  {
   "cell_type": "code",
   "execution_count": null,
   "metadata": {
    "collapsed": false
   },
   "outputs": [],
   "source": [
    "sigma = 6.5 * (2 ** 0.5)\n",
    "\n",
    "X = np.loadtxt('data/sphere_x.txt')\n",
    "Y = np.loadtxt('data/sphere_y.txt')\n",
    "Z = np.loadtxt('data/sphere_z.txt')\n",
    "\n",
    "X0 = np.dstack((X,Y,Z))[0]\n",
    "\n",
    "X = np.loadtxt('data/vent_x.txt')\n",
    "Y = np.loadtxt('data/vent_y.txt')\n",
    "Z = np.loadtxt('data/vent_z.txt')\n",
    "\n",
    "X1 = np.dstack((X,Y,Z))[0]\n",
    "\n",
    "alpha = shootingMethod(X0, X1, alpha0, 3, sigma)"
   ]
  },
  {
   "cell_type": "code",
   "execution_count": null,
   "metadata": {
    "collapsed": true
   },
   "outputs": [],
   "source": []
  }
 ],
 "metadata": {
  "kernelspec": {
   "display_name": "Python 2",
   "language": "python",
   "name": "python2"
  },
  "language_info": {
   "codemirror_mode": {
    "name": "ipython",
    "version": 2
   },
   "file_extension": ".py",
   "mimetype": "text/x-python",
   "name": "python",
   "nbconvert_exporter": "python",
   "pygments_lexer": "ipython2",
   "version": "2.7.11"
  }
 },
 "nbformat": 4,
 "nbformat_minor": 0
}
