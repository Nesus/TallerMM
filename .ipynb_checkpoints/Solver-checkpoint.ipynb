{
 "cells": [
  {
   "cell_type": "code",
   "execution_count": 3,
   "metadata": {
    "collapsed": true
   },
   "outputs": [],
   "source": [
    "import numpy as np\n",
    "import sympy as sp\n",
    "from scipy.optimize import fsolve"
   ]
  },
  {
   "cell_type": "code",
   "execution_count": 60,
   "metadata": {
    "collapsed": false
   },
   "outputs": [],
   "source": [
    "#def f(y):\n",
    "#    y1, y2 = y\n",
    "#    return np.array([-y1**2, y2**(1./2.)])\n",
    "#def df(y):\n",
    "#    y1, y2 = y\n",
    "#    return np.array([[-2.*y1, 0], [0, 0.5*y2**(-0.5)]])\n",
    "\n",
    "## Function of the Differential Problem\n",
    "def f(y):\n",
    "    y1, y2 = y\n",
    "    return np.array([-y1 + y2, 3*y1 - 7*y2])\n",
    "\n",
    "## Jacobian of the problem\n",
    "def df(y):\n",
    "    y1, y2 = y\n",
    "    return np.array([[-1., 1.], [3., -7.]])\n",
    "\n",
    "## Real (analytic) solution of differential problem\n",
    "def sol(y):\n",
    "    return np.array([1./(1. + y), ((1./4.)*(y - 2)**2)])\n",
    "\n",
    "## F for solve F(y) = 0 with Newton method. \n",
    "## y = y_i+1\n",
    "def F(y, y_0, h, f):\n",
    "    return y - y_0 - h*f(y)\n",
    "\n",
    "## Jacobian of F\n",
    "def dF(y, h, df):\n",
    "    return 1. - h*df(y)\n",
    "\n",
    "## Implicit midpoint Rule\n",
    "## Here we use y_i+1 = y_1 + h*f((y_i+1 + y_i)/2)\n",
    "def Fi(y, y_0, h, f):\n",
    "    return y - y_0 - h*f((y+y_0)*0.5)\n",
    "\n",
    "## Jacobian of Fi, using chain's rule.\n",
    "def dFi(y, h, df):\n",
    "    return 1. - 0.5*h*df(y)\n",
    "\n",
    "def newton(y_0, h, f, df, maxiter = 10000, tol = 1e-10):\n",
    "    #Initial Guess\n",
    "    y = y_0.copy()\n",
    "    for j in range(maxiter):\n",
    "        #Step calculation\n",
    "        w = np.linalg.solve(dF(y, h, df), -1*F(y, y_0, h, f))\n",
    "        y += w\n",
    "        ## Found an acceptable solution\n",
    "        if np.linalg.norm(F(y, y_0, h, f)) < tol:\n",
    "            break\n",
    "    return y\n",
    "\n",
    "def solver(f, df, h, y_0, t_0, t_f):\n",
    "    n = int((t_f-t_0)/h)\n",
    "    y = np.zeros((n+1,len(y_0)))\n",
    "    trange = np.linspace(t_0, t_f, n+1)\n",
    "    y[0] = y_0.copy()\n",
    "    for i in range(1,n+1):\n",
    "        y[i] = newton(y[i-1], h, f, df)\n",
    "    return y, trange\n",
    "    "
   ]
  },
  {
   "cell_type": "code",
   "execution_count": 62,
   "metadata": {
    "collapsed": false,
    "scrolled": true
   },
   "outputs": [
    {
     "name": "stdout",
     "output_type": "stream",
     "text": [
      "[[ 0.          0.        ]\n",
      " [ 0.10869565  0.15782609]\n",
      " [ 0.1521289   0.15165721]\n",
      " [ 0.16379117  0.08932605]\n",
      " [ 0.15938416  0.01431759]\n",
      " [ 0.14673616  0.05571838]]\n"
     ]
    }
   ],
   "source": [
    "y, t = solver(f, df, 0.2, np.array([1,1]), 0, 1)\n",
    "print abs(sol(t).T - y)"
   ]
  },
  {
   "cell_type": "code",
   "execution_count": 63,
   "metadata": {
    "collapsed": false,
    "scrolled": true
   },
   "outputs": [
    {
     "data": {
      "text/plain": [
       "array([[ 1.        ,  1.        ],\n",
       "       [ 0.83333333,  0.81      ],\n",
       "       [ 0.71428571,  0.64      ],\n",
       "       [ 0.625     ,  0.49      ],\n",
       "       [ 0.55555556,  0.36      ],\n",
       "       [ 0.5       ,  0.25      ]])"
      ]
     },
     "execution_count": 63,
     "metadata": {},
     "output_type": "execute_result"
    }
   ],
   "source": [
    "sol(t).T"
   ]
  },
  {
   "cell_type": "code",
   "execution_count": 64,
   "metadata": {
    "collapsed": false
   },
   "outputs": [
    {
     "data": {
      "text/plain": [
       "array([[ 1.        ,  1.        ],\n",
       "       [ 0.94202899,  0.65217391],\n",
       "       [ 0.86641462,  0.48834279],\n",
       "       [ 0.78879117,  0.40067395],\n",
       "       [ 0.71493971,  0.34568241],\n",
       "       [ 0.64673616,  0.30571838]])"
      ]
     },
     "execution_count": 64,
     "metadata": {},
     "output_type": "execute_result"
    }
   ],
   "source": [
    "y"
   ]
  },
  {
   "cell_type": "code",
   "execution_count": 39,
   "metadata": {
    "collapsed": false
   },
   "outputs": [
    {
     "name": "stdout",
     "output_type": "stream",
     "text": [
      "(array([-0.53589838, -7.46410162]), array([[ 0.90707274, -0.15288195],\n",
      "       [ 0.42097392,  0.98824446]]))\n"
     ]
    }
   ],
   "source": [
    "A = np.array([[-1,1], [3,-7]])\n",
    "print np.linalg.eig(A)"
   ]
  },
  {
   "cell_type": "code",
   "execution_count": 1,
   "metadata": {
    "collapsed": false
   },
   "outputs": [
    {
     "ename": "NameError",
     "evalue": "name 'np' is not defined",
     "output_type": "error",
     "traceback": [
      "\u001b[1;31m---------------------------------------------------------------------------\u001b[0m",
      "\u001b[1;31mNameError\u001b[0m                                 Traceback (most recent call last)",
      "\u001b[1;32m<ipython-input-1-66f639271172>\u001b[0m in \u001b[0;36m<module>\u001b[1;34m()\u001b[0m\n\u001b[1;32m----> 1\u001b[1;33m \u001b[1;36m0.01\u001b[0m\u001b[1;33m*\u001b[0m\u001b[0mnp\u001b[0m\u001b[1;33m.\u001b[0m\u001b[0mlinalg\u001b[0m\u001b[1;33m.\u001b[0m\u001b[0meig\u001b[0m\u001b[1;33m(\u001b[0m\u001b[0mA\u001b[0m\u001b[1;33m)\u001b[0m\u001b[1;33m[\u001b[0m\u001b[1;36m0\u001b[0m\u001b[1;33m]\u001b[0m\u001b[1;33m[\u001b[0m\u001b[1;36m0\u001b[0m\u001b[1;33m]\u001b[0m\u001b[1;33m\u001b[0m\u001b[0m\n\u001b[0m",
      "\u001b[1;31mNameError\u001b[0m: name 'np' is not defined"
     ]
    }
   ],
   "source": [
    "0.01*np.linalg.eig(A)[0][0]"
   ]
  },
  {
   "cell_type": "code",
   "execution_count": null,
   "metadata": {
    "collapsed": true
   },
   "outputs": [],
   "source": []
  }
 ],
 "metadata": {
  "kernelspec": {
   "display_name": "Python 2",
   "language": "python",
   "name": "python2"
  },
  "language_info": {
   "codemirror_mode": {
    "name": "ipython",
    "version": 2
   },
   "file_extension": ".py",
   "mimetype": "text/x-python",
   "name": "python",
   "nbconvert_exporter": "python",
   "pygments_lexer": "ipython2",
   "version": "2.7.10"
  }
 },
 "nbformat": 4,
 "nbformat_minor": 0
}
