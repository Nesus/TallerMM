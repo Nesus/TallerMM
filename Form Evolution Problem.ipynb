{
 "cells": [
  {
   "cell_type": "code",
   "execution_count": 41,
   "metadata": {
    "collapsed": false
   },
   "outputs": [],
   "source": [
    "import numpy as np\n",
    "import matplotlib.pyplot as plt\n",
    "from mpl_toolkits.mplot3d import Axes3D\n",
    "from pyfigtree import figtree\n",
    "from sklearn import preprocessing\n",
    "from scipy.optimize import root\n",
    "from scipy.integrate import odeint\n",
    "epsilon = 1e-5"
   ]
  },
  {
   "cell_type": "code",
   "execution_count": 42,
   "metadata": {
    "collapsed": true
   },
   "outputs": [],
   "source": [
    "def direct_evaluation(S,T,weights,delta):\n",
    "    checkPot = []\n",
    "    for target in T:\n",
    "        # for each source, add to potential at current target\n",
    "        diff = target-S\n",
    "        norm = np.linalg.norm(diff, axis=1)\n",
    "        up = (norm / delta)**2\n",
    "        potential = np.exp(-up)*weights\n",
    "        \n",
    "        cum_potential = np.sum(potential)\n",
    "        checkPot.append(cum_potential)\n",
    "    return np.array(checkPot)"
   ]
  },
  {
   "cell_type": "markdown",
   "metadata": {},
   "source": [
    "# Form Evolution Equations\n",
    "## Direct Functions"
   ]
  },
  {
   "cell_type": "code",
   "execution_count": 43,
   "metadata": {
    "collapsed": true
   },
   "outputs": [],
   "source": [
    "def direct_position(X,alpha,delta):\n",
    "    X_x = direct_evaluation(X,X,alpha[:,0], delta)\n",
    "    X_y = direct_evaluation(X,X,alpha[:,1], delta)\n",
    "    X_z = direct_evaluation(X,X,alpha[:,2], delta) \n",
    "    return np.dstack([X_x,X_y, X_z])[0]"
   ]
  },
  {
   "cell_type": "code",
   "execution_count": 44,
   "metadata": {
    "collapsed": true
   },
   "outputs": [],
   "source": [
    "def direct_momentum(X,alpha,delta):\n",
    "    ax = alpha[:,0]\n",
    "    ay = alpha[:,1]\n",
    "    az = alpha[:,2]\n",
    "    \n",
    "    first_weights = np.dstack([ax * X[:,0], ax * X[:,1], ax * X[:,2]])[0]\n",
    "    second_weights = np.dstack([ay * X[:,0], ay * X[:,1], ay * X[:,2]])[0]\n",
    "    third_weights = np.dstack([az * X[:,0], az * X[:,1], az * X[:,2]])[0]\n",
    "    \n",
    "    first_sum_x = direct_evaluation(X,X,first_weights[:,0],delta)\n",
    "    first_sum_y = direct_evaluation(X,X,first_weights[:,1],delta)\n",
    "    first_sum_z = direct_evaluation(X,X,first_weights[:,2],delta)\n",
    "    \n",
    "    \n",
    "    second_sum_x = direct_evaluation(X,X,second_weights[:,0],delta)\n",
    "    second_sum_y = direct_evaluation(X,X,second_weights[:,1],delta)\n",
    "    second_sum_z = direct_evaluation(X,X,second_weights[:,2],delta)\n",
    "    \n",
    "    \n",
    "    third_sum_x = direct_evaluation(X,X,third_weights[:,0],delta)\n",
    "    third_sum_y = direct_evaluation(X,X,third_weights[:,1],delta)\n",
    "    third_sum_z = direct_evaluation(X,X,third_weights[:,2],delta)\n",
    "    \n",
    "    fourth_sum = direct_evaluation(X,X,ax,delta)\n",
    "    fifth_sum = direct_evaluation(X,X,ay,delta)\n",
    "    sixth_sum = direct_evaluation(X,X,az,delta)\n",
    "    \n",
    "    second_term = ax * fourth_sum + ay * fifth_sum + az * sixth_sum\n",
    "    \n",
    "    second_term_x = X[:,0] * second_term\n",
    "    second_term_y = X[:,1] * second_term\n",
    "    second_term_z = X[:,2] * second_term\n",
    "    \n",
    "    \n",
    "    mult = -2./(delta ** 2)\n",
    "    result_x = mult*(ax* first_sum_x + ay * second_sum_x + az * third_sum_x - (second_term_x) )\n",
    "    result_y = mult*(ax* first_sum_y + ay * second_sum_y + az * third_sum_y - (second_term_y) )\n",
    "    result_z = mult*(ax* first_sum_z + ay * second_sum_z + az * third_sum_z - (second_term_z) )\n",
    "    result = np.dstack([result_x,result_y,result_z])[0]\n",
    "    \n",
    "    return result"
   ]
  },
  {
   "cell_type": "markdown",
   "metadata": {},
   "source": [
    "## Figtree Functions"
   ]
  },
  {
   "cell_type": "code",
   "execution_count": 45,
   "metadata": {
    "collapsed": true
   },
   "outputs": [],
   "source": [
    "def position(X,alpha,delta):\n",
    "    X_x = figtree(X,X,alpha[:,0], delta,epsilon=epsilon, eval=\"auto\")\n",
    "    X_y = figtree(X,X,alpha[:,1], delta,epsilon=epsilon, eval=\"auto\")\n",
    "    X_z = figtree(X,X,alpha[:,2], delta,epsilon=epsilon, eval=\"auto\") \n",
    "    return np.dstack([X_x,X_y, X_z])[0]"
   ]
  },
  {
   "cell_type": "code",
   "execution_count": 46,
   "metadata": {
    "collapsed": false
   },
   "outputs": [],
   "source": [
    "def momentum(X,alpha,delta):\n",
    "    ax = alpha[:,0]\n",
    "    ay = alpha[:,1]\n",
    "    az = alpha[:,2]\n",
    "    \n",
    "    first_weights = np.dstack([ax * X[:,0], ax * X[:,1], ax * X[:,2]])[0]\n",
    "    second_weights = np.dstack([ay * X[:,0], ay * X[:,1], ay * X[:,2]])[0]\n",
    "    third_weights = np.dstack([az * X[:,0], az * X[:,1], az * X[:,2]])[0]\n",
    "    \n",
    "    first_sum_x = figtree(X,X,first_weights[:,0],delta, epsilon=epsilon, eval=\"auto\")\n",
    "    first_sum_y = figtree(X,X,first_weights[:,1],delta, epsilon=epsilon, eval=\"auto\")\n",
    "    first_sum_z = figtree(X,X,first_weights[:,2],delta, epsilon=epsilon, eval=\"auto\")\n",
    "    \n",
    "    \n",
    "    second_sum_x = figtree(X,X,second_weights[:,0],delta, epsilon=epsilon, eval=\"auto\")\n",
    "    second_sum_y = figtree(X,X,second_weights[:,1],delta, epsilon=epsilon, eval=\"auto\")\n",
    "    second_sum_z = figtree(X,X,second_weights[:,2],delta, epsilon=epsilon, eval=\"auto\")\n",
    "    \n",
    "    third_sum_x = figtree(X,X,third_weights[:,0],delta, epsilon=epsilon, eval=\"auto\")\n",
    "    third_sum_y = figtree(X,X,third_weights[:,1],delta, epsilon=epsilon, eval=\"auto\")\n",
    "    third_sum_z = figtree(X,X,third_weights[:,2],delta, epsilon=epsilon, eval=\"auto\")\n",
    "    \n",
    "    fourth_sum = figtree(X,X,ax,delta, epsilon=epsilon, eval=\"auto\")\n",
    "    fifth_sum = figtree(X,X,ay,delta, epsilon=epsilon, eval=\"auto\")\n",
    "    sixth_sum = figtree(X,X,az,delta, epsilon=epsilon, eval=\"auto\")\n",
    "    \n",
    "    second_term = ax * fourth_sum + ay * fifth_sum + az * sixth_sum\n",
    "    \n",
    "    second_term_x = X[:,0] * second_term\n",
    "    second_term_y = X[:,1] * second_term\n",
    "    second_term_z = X[:,2] * second_term\n",
    " \n",
    "    mult = -2./(delta ** 2)\n",
    "    result_x = mult*(ax* first_sum_x + ay * second_sum_x + az * third_sum_x - (second_term_x) )\n",
    "    result_y = mult*(ax* first_sum_y + ay * second_sum_y + az * third_sum_y - (second_term_y) )\n",
    "    result_z = mult*(ax* first_sum_z + ay * second_sum_z + az * third_sum_z - (second_term_z) )\n",
    "    result = np.dstack([result_x,result_y,result_z])[0]\n",
    "    \n",
    "    return result"
   ]
  },
  {
   "cell_type": "markdown",
   "metadata": {},
   "source": [
    "# Linearizing Data"
   ]
  },
  {
   "cell_type": "code",
   "execution_count": 47,
   "metadata": {
    "collapsed": false
   },
   "outputs": [],
   "source": [
    "def f(vector, delta):\n",
    "    positions, momentums = np.split(vector,2)\n",
    "    positions = np.reshape(positions,(3,len(positions)/3)).T\n",
    "    momentums = np.reshape(momentums,(3,len(momentums)/3)).T\n",
    "    new_positions = position(positions, momentums,delta)\n",
    "    new_momentums = momentum(positions, momentums,delta)\n",
    "    n,m = new_positions.shape\n",
    "    new_positions = np.reshape(new_positions.T, (n*m))\n",
    "    new_momentums = np.reshape(new_momentums.T, (n*m))\n",
    "    return np.hstack([new_positions,new_momentums])"
   ]
  },
  {
   "cell_type": "code",
   "execution_count": 48,
   "metadata": {
    "collapsed": true
   },
   "outputs": [],
   "source": [
    "def f_direct(vector, delta):\n",
    "    positions, momentums = np.split(vector,2)\n",
    "    positions = np.reshape(positions,(3,len(positions)/3)).T\n",
    "    momentums = np.reshape(momentums,(3,len(momentums)/3)).T\n",
    "    new_positions = direct_position(positions, momentums,delta)\n",
    "    new_momentums = direct_momentum(positions, momentums,delta)\n",
    "    n,m = new_positions.shape\n",
    "    new_positions = np.reshape(new_positions.T, (n*m))\n",
    "    new_momentums = np.reshape(new_momentums.T, (n*m))\n",
    "    return np.hstack([new_positions,new_momentums])"
   ]
  },
  {
   "cell_type": "markdown",
   "metadata": {},
   "source": [
    "# Shooting Method"
   ]
  },
  {
   "cell_type": "code",
   "execution_count": 49,
   "metadata": {
    "collapsed": true
   },
   "outputs": [],
   "source": [
    "def shoot(alpha, x_a, x_b, sigma,steps):\n",
    "    #Making lambda function to integrate\n",
    "    g = lambda y,t: f_direct(y,sigma)\n",
    "    \n",
    "    x_i = x_a\n",
    "    a_i = alpha\n",
    "    \n",
    "    #Linealizing vectors\n",
    "    n,m = x_i.shape\n",
    "    x_i = np.reshape(x_i.T, (n*m))\n",
    "    #a_i = np.reshape(a_i.T, (n*m))\n",
    "    \n",
    "    vector = np.hstack([x_i,a_i])\n",
    "    #Integrate over time\n",
    "    t = np.linspace(0,1,steps)\n",
    "    matrix = odeint(g,vector,t)\n",
    "    \n",
    "    vector = matrix[-1]\n",
    "    x_b = np.reshape(x_b.T, (n*m))\n",
    "    x_i, momentums = np.split(vector,2)\n",
    "    print np.linalg.norm(x_i - x_b)/np.linalg.norm(x_b)\n",
    "    return x_i - x_b"
   ]
  },
  {
   "cell_type": "code",
   "execution_count": 50,
   "metadata": {
    "collapsed": true
   },
   "outputs": [],
   "source": [
    "def shootingMethod(x_a, x_b, alpha0, steps, sigma):\n",
    "    alpha = root(shoot, alpha0, (x_a,x_b,sigma,steps))\n",
    "    return alpha"
   ]
  },
  {
   "cell_type": "markdown",
   "metadata": {},
   "source": [
    "# Testing"
   ]
  },
  {
   "cell_type": "code",
   "execution_count": 51,
   "metadata": {
    "collapsed": false
   },
   "outputs": [],
   "source": [
    "sigma = 6.5 * (2**0.5)\n",
    "cut = 100\n",
    "X = np.loadtxt('data/sphere_x.txt')[:cut]\n",
    "Y = np.loadtxt('data/sphere_y.txt')[:cut]\n",
    "Z = np.loadtxt('data/sphere_z.txt')[:cut]\n",
    "\n",
    "X0 = np.dstack((X,Y,Z))[0]\n",
    "\n",
    "XF = np.loadtxt('data/vent_x.txt')[:cut]\n",
    "YF = np.loadtxt('data/vent_y.txt')[:cut]\n",
    "ZF = np.loadtxt('data/vent_z.txt')[:cut]\n",
    "\n",
    "X1 = np.dstack((XF,YF,ZF))[0]\n",
    "\n",
    "A = np.loadtxt('data/alpha0_x.txt')[:cut]\n",
    "B = np.loadtxt('data/alpha0_y.txt')[:cut]\n",
    "C = np.loadtxt('data/alpha0_z.txt')[:cut]\n",
    "\n",
    "alpha_sol = np.dstack((A,B,C))[0]"
   ]
  },
  {
   "cell_type": "code",
   "execution_count": 52,
   "metadata": {
    "collapsed": false
   },
   "outputs": [
    {
     "name": "stdout",
     "output_type": "stream",
     "text": [
      "CPU times: user 16 ms, sys: 0 ns, total: 16 ms\n",
      "Wall time: 16.3 ms\n"
     ]
    }
   ],
   "source": [
    "%time postition1 = direct_position(X0,alpha_sol,sigma)"
   ]
  },
  {
   "cell_type": "code",
   "execution_count": 53,
   "metadata": {
    "collapsed": false
   },
   "outputs": [
    {
     "name": "stdout",
     "output_type": "stream",
     "text": [
      "CPU times: user 12 ms, sys: 0 ns, total: 12 ms\n",
      "Wall time: 11.2 ms\n"
     ]
    }
   ],
   "source": [
    "%time postition2 = position(X0,alpha_sol,sigma)"
   ]
  },
  {
   "cell_type": "code",
   "execution_count": 54,
   "metadata": {
    "collapsed": false
   },
   "outputs": [
    {
     "name": "stdout",
     "output_type": "stream",
     "text": [
      "CPU times: user 92 ms, sys: 8 ms, total: 100 ms\n",
      "Wall time: 97.6 ms\n"
     ]
    }
   ],
   "source": [
    "%time momentum1 = direct_momentum(X0,alpha_sol,sigma)"
   ]
  },
  {
   "cell_type": "code",
   "execution_count": 55,
   "metadata": {
    "collapsed": false
   },
   "outputs": [
    {
     "name": "stdout",
     "output_type": "stream",
     "text": [
      "CPU times: user 32 ms, sys: 0 ns, total: 32 ms\n",
      "Wall time: 33.2 ms\n"
     ]
    }
   ],
   "source": [
    "%time momentum2 = momentum(X0,alpha_sol,sigma)"
   ]
  },
  {
   "cell_type": "code",
   "execution_count": 56,
   "metadata": {
    "collapsed": false
   },
   "outputs": [],
   "source": [
    "fig = plt.figure()\n",
    "ax = fig.add_subplot(111, projection='3d')\n",
    "ax.scatter(X0[:,0],X0[:,1],X0[:,2])\n",
    "plt.show()"
   ]
  },
  {
   "cell_type": "code",
   "execution_count": 57,
   "metadata": {
    "collapsed": false
   },
   "outputs": [],
   "source": [
    "fig = plt.figure()\n",
    "ax = fig.add_subplot(111, projection='3d')\n",
    "ax.scatter(X1[:,0],X1[:,1],X1[:,2])\n",
    "plt.show()"
   ]
  },
  {
   "cell_type": "code",
   "execution_count": 67,
   "metadata": {
    "collapsed": false
   },
   "outputs": [],
   "source": [
    "n,m = X0.shape\n",
    "X_lineal = np.reshape(X0.T, (n*m))\n",
    "alpha_lineal = np.reshape(alpha_sol.T, (n*m))\n",
    "vector = np.hstack([X_lineal,alpha_lineal])\n",
    "t = np.linspace(0,1,100)\n",
    "g = lambda y,t: f(y,sigma)\n",
    "matrix = odeint(g,vector,t)"
   ]
  },
  {
   "cell_type": "code",
   "execution_count": 59,
   "metadata": {
    "collapsed": false
   },
   "outputs": [],
   "source": [
    "#alpha0 = np.random.random(X0.shape[0]* X0.shape[1])\n",
    "#alpha = shootingMethod(X0, X1, alpha0, 3, sigma)"
   ]
  },
  {
   "cell_type": "code",
   "execution_count": 68,
   "metadata": {
    "collapsed": false
   },
   "outputs": [
    {
     "data": {
      "image/png": "[encoded data removed]",
      "text/plain": [
       "<matplotlib.figure.Figure at 0x7fd56630e650>"
      ]
     },
     "metadata": {},
     "output_type": "display_data"
    }
   ],
   "source": [
    "%matplotlib inline\n",
    "vector = matrix[-1]\n",
    "positions, momentums = np.split(vector,2)\n",
    "positions = np.reshape(positions,(3,len(positions)/3)).T\n",
    "momentums = np.reshape(momentums,(3,len(momentums)/3)).T\n",
    "fig = plt.figure()\n",
    "ax = fig.add_subplot(111, projection='3d')\n",
    "ax.scatter(positions[:,0],positions[:,1],positions[:,2])\n",
    "plt.show()"
   ]
  },
  {
   "cell_type": "code",
   "execution_count": null,
   "metadata": {
    "collapsed": true
   },
   "outputs": [],
   "source": []
  }
 ],
 "metadata": {
  "kernelspec": {
   "display_name": "Python 2",
   "language": "python",
   "name": "python2"
  },
  "language_info": {
   "codemirror_mode": {
    "name": "ipython",
    "version": 2
   },
   "file_extension": ".py",
   "mimetype": "text/x-python",
   "name": "python",
   "nbconvert_exporter": "python",
   "pygments_lexer": "ipython2",
   "version": "2.7.11"
  }
 },
 "nbformat": 4,
 "nbformat_minor": 0
}
