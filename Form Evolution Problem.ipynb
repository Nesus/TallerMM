{
 "cells": [
  {
   "cell_type": "code",
   "execution_count": 1,
   "metadata": {
    "collapsed": false
   },
   "outputs": [],
   "source": [
    "import numpy as np\n",
    "import matplotlib.pyplot as plt\n",
    "from mpl_toolkits.mplot3d import Axes3D\n",
    "\n",
    "import time\n",
    "\n",
    "from pyfigtree import figtree\n",
    "from scipy.optimize import root\n",
    "from scipy.integrate import odeint\n",
    "\n",
    "epsilon = 1e-5"
   ]
  },
  {
   "cell_type": "code",
   "execution_count": 2,
   "metadata": {
    "collapsed": true
   },
   "outputs": [],
   "source": [
    "def direct_evaluation(S,T,weights,delta):\n",
    "    checkPot = []\n",
    "    for target in T:\n",
    "        # for each source, add to potential at current target\n",
    "        diff = target-S\n",
    "        norm = np.linalg.norm(diff, axis=1)\n",
    "        up = (norm / delta)**2\n",
    "        potential = np.exp(-up)*weights\n",
    "        \n",
    "        cum_potential = np.sum(potential)\n",
    "        checkPot.append(cum_potential)\n",
    "    return np.array(checkPot)"
   ]
  },
  {
   "cell_type": "markdown",
   "metadata": {},
   "source": [
    "# Form Evolution Equations\n",
    "## Direct Functions"
   ]
  },
  {
   "cell_type": "code",
   "execution_count": 3,
   "metadata": {
    "collapsed": true
   },
   "outputs": [],
   "source": [
    "def direct_position(X,alpha,delta):\n",
    "    X_x = direct_evaluation(X,X,alpha[:,0], delta)\n",
    "    X_y = direct_evaluation(X,X,alpha[:,1], delta)\n",
    "    X_z = direct_evaluation(X,X,alpha[:,2], delta) \n",
    "    return np.dstack([X_x,X_y, X_z])[0]"
   ]
  },
  {
   "cell_type": "code",
   "execution_count": 4,
   "metadata": {
    "collapsed": true
   },
   "outputs": [],
   "source": [
    "def direct_momentum(X,alpha,delta):\n",
    "    ax = alpha[:,0]\n",
    "    ay = alpha[:,1]\n",
    "    az = alpha[:,2]\n",
    "    \n",
    "    first_weights = np.dstack([ax * X[:,0], ax * X[:,1], ax * X[:,2]])[0]\n",
    "    second_weights = np.dstack([ay * X[:,0], ay * X[:,1], ay * X[:,2]])[0]\n",
    "    third_weights = np.dstack([az * X[:,0], az * X[:,1], az * X[:,2]])[0]\n",
    "    \n",
    "    first_sum_x = direct_evaluation(X,X,first_weights[:,0],delta)\n",
    "    first_sum_y = direct_evaluation(X,X,first_weights[:,1],delta)\n",
    "    first_sum_z = direct_evaluation(X,X,first_weights[:,2],delta)\n",
    "    \n",
    "    \n",
    "    second_sum_x = direct_evaluation(X,X,second_weights[:,0],delta)\n",
    "    second_sum_y = direct_evaluation(X,X,second_weights[:,1],delta)\n",
    "    second_sum_z = direct_evaluation(X,X,second_weights[:,2],delta)\n",
    "    \n",
    "    \n",
    "    third_sum_x = direct_evaluation(X,X,third_weights[:,0],delta)\n",
    "    third_sum_y = direct_evaluation(X,X,third_weights[:,1],delta)\n",
    "    third_sum_z = direct_evaluation(X,X,third_weights[:,2],delta)\n",
    "    \n",
    "    fourth_sum = direct_evaluation(X,X,ax,delta)\n",
    "    fifth_sum = direct_evaluation(X,X,ay,delta)\n",
    "    sixth_sum = direct_evaluation(X,X,az,delta)\n",
    "    \n",
    "    second_term = ax * fourth_sum + ay * fifth_sum + az * sixth_sum\n",
    "    \n",
    "    second_term_x = X[:,0] * second_term\n",
    "    second_term_y = X[:,1] * second_term\n",
    "    second_term_z = X[:,2] * second_term\n",
    "    \n",
    "    \n",
    "    mult = -2./(delta ** 2)\n",
    "    result_x = mult*(ax* first_sum_x + ay * second_sum_x + az * third_sum_x - (second_term_x) )\n",
    "    result_y = mult*(ax* first_sum_y + ay * second_sum_y + az * third_sum_y - (second_term_y) )\n",
    "    result_z = mult*(ax* first_sum_z + ay * second_sum_z + az * third_sum_z - (second_term_z) )\n",
    "    result = np.dstack([result_x,result_y,result_z])[0]\n",
    "    \n",
    "    return result"
   ]
  },
  {
   "cell_type": "markdown",
   "metadata": {},
   "source": [
    "## Figtree Functions"
   ]
  },
  {
   "cell_type": "code",
   "execution_count": 5,
   "metadata": {
    "collapsed": true
   },
   "outputs": [],
   "source": [
    "def position(X,alpha,delta):\n",
    "    X_x = figtree(X,X,alpha[:,0], delta,epsilon=epsilon, eval=\"auto\")\n",
    "    X_y = figtree(X,X,alpha[:,1], delta,epsilon=epsilon, eval=\"auto\")\n",
    "    X_z = figtree(X,X,alpha[:,2], delta,epsilon=epsilon, eval=\"auto\") \n",
    "    return np.dstack([X_x,X_y, X_z])[0]"
   ]
  },
  {
   "cell_type": "code",
   "execution_count": 6,
   "metadata": {
    "collapsed": false
   },
   "outputs": [],
   "source": [
    "def momentum(X,alpha,delta):\n",
    "    ax = alpha[:,0]\n",
    "    ay = alpha[:,1]\n",
    "    az = alpha[:,2]\n",
    "    \n",
    "    first_weights = np.dstack([ax * X[:,0], ax * X[:,1], ax * X[:,2]])[0]\n",
    "    second_weights = np.dstack([ay * X[:,0], ay * X[:,1], ay * X[:,2]])[0]\n",
    "    third_weights = np.dstack([az * X[:,0], az * X[:,1], az * X[:,2]])[0]\n",
    "    \n",
    "    first_sum_x = figtree(X,X,first_weights[:,0],delta, epsilon=epsilon, eval=\"auto\")\n",
    "    first_sum_y = figtree(X,X,first_weights[:,1],delta, epsilon=epsilon, eval=\"auto\")\n",
    "    first_sum_z = figtree(X,X,first_weights[:,2],delta, epsilon=epsilon, eval=\"auto\")\n",
    "    \n",
    "    \n",
    "    second_sum_x = figtree(X,X,second_weights[:,0],delta, epsilon=epsilon, eval=\"auto\")\n",
    "    second_sum_y = figtree(X,X,second_weights[:,1],delta, epsilon=epsilon, eval=\"auto\")\n",
    "    second_sum_z = figtree(X,X,second_weights[:,2],delta, epsilon=epsilon, eval=\"auto\")\n",
    "    \n",
    "    third_sum_x = figtree(X,X,third_weights[:,0],delta, epsilon=epsilon, eval=\"auto\")\n",
    "    third_sum_y = figtree(X,X,third_weights[:,1],delta, epsilon=epsilon, eval=\"auto\")\n",
    "    third_sum_z = figtree(X,X,third_weights[:,2],delta, epsilon=epsilon, eval=\"auto\")\n",
    "    \n",
    "    fourth_sum = figtree(X,X,ax,delta, epsilon=epsilon, eval=\"auto\")\n",
    "    fifth_sum = figtree(X,X,ay,delta, epsilon=epsilon, eval=\"auto\")\n",
    "    sixth_sum = figtree(X,X,az,delta, epsilon=epsilon, eval=\"auto\")\n",
    "    \n",
    "    second_term = ax * fourth_sum + ay * fifth_sum + az * sixth_sum\n",
    "    \n",
    "    second_term_x = X[:,0] * second_term\n",
    "    second_term_y = X[:,1] * second_term\n",
    "    second_term_z = X[:,2] * second_term\n",
    " \n",
    "    mult = -2./(delta ** 2)\n",
    "    result_x = mult*(ax* first_sum_x + ay * second_sum_x + az * third_sum_x - (second_term_x) )\n",
    "    result_y = mult*(ax* first_sum_y + ay * second_sum_y + az * third_sum_y - (second_term_y) )\n",
    "    result_z = mult*(ax* first_sum_z + ay * second_sum_z + az * third_sum_z - (second_term_z) )\n",
    "    result = np.dstack([result_x,result_y,result_z])[0]\n",
    "    \n",
    "    return result"
   ]
  },
  {
   "cell_type": "markdown",
   "metadata": {},
   "source": [
    "# Linearizing Data"
   ]
  },
  {
   "cell_type": "code",
   "execution_count": 7,
   "metadata": {
    "collapsed": false
   },
   "outputs": [],
   "source": [
    "def f(vector, delta):\n",
    "    positions, momentums = np.split(vector,2)\n",
    "    positions = np.reshape(positions,(3,len(positions)/3)).T\n",
    "    momentums = np.reshape(momentums,(3,len(momentums)/3)).T\n",
    "    new_positions = position(positions, momentums,delta)\n",
    "    new_momentums = momentum(positions, momentums,delta)\n",
    "    n,m = new_positions.shape\n",
    "    new_positions = np.reshape(new_positions.T, (n*m))\n",
    "    new_momentums = np.reshape(new_momentums.T, (n*m))\n",
    "    return np.hstack([new_positions,new_momentums])"
   ]
  },
  {
   "cell_type": "code",
   "execution_count": 8,
   "metadata": {
    "collapsed": true
   },
   "outputs": [],
   "source": [
    "def f_direct(vector, delta):\n",
    "    positions, momentums = np.split(vector,2)\n",
    "    positions = np.reshape(positions,(3,len(positions)/3)).T\n",
    "    momentums = np.reshape(momentums,(3,len(momentums)/3)).T\n",
    "    new_positions = direct_position(positions, momentums,delta)\n",
    "    new_momentums = direct_momentum(positions, momentums,delta)\n",
    "    n,m = new_positions.shape\n",
    "    new_positions = np.reshape(new_positions.T, (n*m))\n",
    "    new_momentums = np.reshape(new_momentums.T, (n*m))\n",
    "    return np.hstack([new_positions,new_momentums])"
   ]
  },
  {
   "cell_type": "markdown",
   "metadata": {},
   "source": [
    "# Shooting Method"
   ]
  },
  {
   "cell_type": "code",
   "execution_count": 9,
   "metadata": {
    "collapsed": false
   },
   "outputs": [],
   "source": [
    "def shoot(alpha, x_a, x_b, sigma,steps):\n",
    "    #Making lambda function to integrate\n",
    "    g = lambda y,t: f_direct(y,sigma)\n",
    "\n",
    "    #Linealizing vectors\n",
    "    n,m = x_a.shape\n",
    "    x_a = np.reshape(x_a.T, (n*m))\n",
    "    #alpha = np.reshape(alpha.T, (n*m))\n",
    "    \n",
    "    vector = np.hstack([x_a,alpha])\n",
    "    \n",
    "    #Integrate over time\n",
    "    t = np.linspace(0,1,steps)\n",
    "    matrix = odeint(g,vector,t)\n",
    "    \n",
    "    #Taking the positions of particles\n",
    "    #on the last time and comparing to \n",
    "    #position on \n",
    "    vector = matrix[-1]\n",
    "    x_b = np.reshape(x_b.T, (n*m))\n",
    "    x_a, momentums = np.split(vector,2)\n",
    "    print np.linalg.norm(x_a - x_b)/np.linalg.norm(x_b)\n",
    "    return x_a - x_b"
   ]
  },
  {
   "cell_type": "code",
   "execution_count": 10,
   "metadata": {
    "collapsed": true
   },
   "outputs": [],
   "source": [
    "def shootingMethod(x_a, x_b, alpha0, steps, sigma):\n",
    "    alpha = root(shoot, alpha0, (x_a,x_b,sigma,steps))\n",
    "    return alpha"
   ]
  },
  {
   "cell_type": "markdown",
   "metadata": {},
   "source": [
    "# Testing"
   ]
  },
  {
   "cell_type": "markdown",
   "metadata": {},
   "source": [
    "### Reading Data"
   ]
  },
  {
   "cell_type": "code",
   "execution_count": 11,
   "metadata": {
    "collapsed": false
   },
   "outputs": [],
   "source": [
    "#Data Given by Felipe Arrate\n",
    "sigma = 6.5 * (2**0.5)\n",
    "cut = 4098\n",
    "\n",
    "X = np.loadtxt('data/dataFelipe/sphere_x.txt')[:cut]\n",
    "Y = np.loadtxt('data/dataFelipe/sphere_y.txt')[:cut]\n",
    "Z = np.loadtxt('data/dataFelipe/sphere_z.txt')[:cut]\n",
    "\n",
    "X0 = np.dstack((X,Y,Z))[0]\n",
    "\n",
    "XF = np.loadtxt('data/dataFelipe/vent_x.txt')[:cut]\n",
    "YF = np.loadtxt('data/dataFelipe/vent_y.txt')[:cut]\n",
    "ZF = np.loadtxt('data/dataFelipe/vent_z.txt')[:cut]\n",
    "\n",
    "X1 = np.dstack((XF,YF,ZF))[0]\n",
    "\n",
    "A = np.loadtxt('data/dataFelipe/alpha0_x.txt')[:cut]\n",
    "B = np.loadtxt('data/dataFelipe/alpha0_y.txt')[:cut]\n",
    "C = np.loadtxt('data/dataFelipe/alpha0_z.txt')[:cut]\n",
    "\n",
    "alpha_sol = np.dstack((A,B,C))[0]\n",
    "\n",
    "#Data created using a vector with starting positions, momentums\n",
    "# and integrated with odeint to get the final positions\n",
    "sigmas = np.array([1e-3,1e-2,1e-1,1,10,100,1000])\n",
    "sizes = np.array([260,337,424,521])\n",
    "\n",
    "data = dict()\n",
    "data[4098] = [X0,X1,alpha_sol]\n",
    "for size in sizes:\n",
    "    X = np.loadtxt('data/sphere'+str(size)+'/sphere_ini_x.txt')\n",
    "    Y = np.loadtxt('data/sphere'+str(size)+'/sphere_ini_y.txt')\n",
    "    Z = np.loadtxt('data/sphere'+str(size)+'/sphere_ini_z.txt')\n",
    "\n",
    "    X0 = np.dstack((X,Y,Z))[0]\n",
    "\n",
    "    XF = np.loadtxt('data/sphere'+str(size)+'/sphere_fin_x.txt')\n",
    "    YF = np.loadtxt('data/sphere'+str(size)+'/sphere_fin_y.txt')\n",
    "    ZF = np.loadtxt('data/sphere'+str(size)+'/sphere_fin_z.txt')\n",
    "\n",
    "    X1 = np.dstack((XF,YF,ZF))[0]\n",
    "\n",
    "    A = np.loadtxt('data/sphere'+str(size)+'/alpha0_x.txt')\n",
    "    B = np.loadtxt('data/sphere'+str(size)+'/alpha0_y.txt')\n",
    "    C = np.loadtxt('data/sphere'+str(size)+'/alpha0_z.txt')\n",
    "\n",
    "    alpha_sol = np.dstack((A,B,C))[0]\n",
    "    \n",
    "    data[size] = [X0,X1,alpha_sol]\n",
    "sizes = np.append(sizes,4098)"
   ]
  },
  {
   "cell_type": "markdown",
   "metadata": {},
   "source": [
    "## Making Runtime Comparison"
   ]
  },
  {
   "cell_type": "code",
   "execution_count": 12,
   "metadata": {
    "collapsed": false
   },
   "outputs": [],
   "source": [
    "times_direct = np.zeros((len(sizes),len(sigmas)))\n",
    "times_fast   = np.zeros((len(sizes),len(sigmas)))\n",
    "\n",
    "for j, sig in enumerate(sigmas):\n",
    "    for i,size in enumerate(sizes):\n",
    "        X0_i,X1_i,alpha0_i = data[size]\n",
    "        inicial = time.time()\n",
    "        position(X0_i,alpha0_i,sig)\n",
    "        momentum(X0_i,alpha0_i,sig)\n",
    "        times_fast[i,j] = time.time() - inicial\n",
    "        inicial = time.time()\n",
    "        direct_position(X0,alpha_sol,sigma)\n",
    "        direct_momentum(X0_i,alpha0_i,sig)\n",
    "        times_direct[i,j] = time.time()  - inicial"
   ]
  },
  {
   "cell_type": "code",
   "execution_count": 35,
   "metadata": {
    "collapsed": false
   },
   "outputs": [],
   "source": [
    "plt.figure(1)\n",
    "plt.subplot(211)\n",
    "for i in xrange(len(sigmas)):\n",
    "    plt.plot(sizes,np.log(times_fast[:,i]))\n",
    "plt.subplot(212)\n",
    "for j in xrange(len(sigmas)):\n",
    "    plt.plot(sizes,np.log(times_direct[:,i]))\n",
    "    \n",
    "plt.show()"
   ]
  },
  {
   "cell_type": "code",
   "execution_count": 21,
   "metadata": {
    "collapsed": false
   },
   "outputs": [],
   "source": [
    "X0,X1,alpha = data[521]\n",
    "#Plotting Initial positions\n",
    "fig = plt.figure()\n",
    "ax = fig.add_subplot(111, projection='3d')\n",
    "ax.scatter(X0[:,0],X0[:,1],X0[:,2])\n",
    "plt.show()\n",
    "\n",
    "fig = plt.figure()\n",
    "ax = fig.add_subplot(111, projection='3d')\n",
    "ax.scatter(X1[:,0],X1[:,1],X1[:,2])\n",
    "plt.show()"
   ]
  },
  {
   "cell_type": "code",
   "execution_count": null,
   "metadata": {
    "collapsed": false
   },
   "outputs": [],
   "source": [
    "#Plotting Initial positions\n",
    "fig = plt.figure()\n",
    "ax = fig.add_subplot(111, projection='3d')\n",
    "ax.scatter(X0[:,0],X0[:,1],X0[:,2])\n",
    "plt.show()"
   ]
  },
  {
   "cell_type": "code",
   "execution_count": null,
   "metadata": {
    "collapsed": false
   },
   "outputs": [],
   "source": [
    "fig = plt.figure()\n",
    "ax = fig.add_subplot(111, projection='3d')\n",
    "ax.scatter(X1[:,0],X1[:,1],X1[:,2])\n",
    "plt.show()"
   ]
  },
  {
   "cell_type": "code",
   "execution_count": null,
   "metadata": {
    "collapsed": false
   },
   "outputs": [],
   "source": [
    "n,m = X0.shape\n",
    "X_lineal = np.reshape(X0.T, (n*m))\n",
    "alpha_lineal = np.reshape(alpha_sol.T, (n*m))\n",
    "vector = np.hstack([X_lineal,alpha_lineal])\n",
    "t = np.linspace(0,1,100)\n",
    "g = lambda y,t: f(y,sigma)\n",
    "matrix = odeint(g,vector,t)"
   ]
  },
  {
   "cell_type": "code",
   "execution_count": null,
   "metadata": {
    "collapsed": false
   },
   "outputs": [],
   "source": [
    "#alpha0 = np.random.random(X0.shape[0]* X0.shape[1])\n",
    "#alpha = shootingMethod(X0, X1, alpha0, 3, sigma)"
   ]
  },
  {
   "cell_type": "code",
   "execution_count": null,
   "metadata": {
    "collapsed": false
   },
   "outputs": [],
   "source": [
    "vector = matrix[-1]\n",
    "positions, momentums = np.split(vector,2)\n",
    "positions = np.reshape(positions,(3,len(positions)/3)).T\n",
    "momentums = np.reshape(momentums,(3,len(momentums)/3)).T\n",
    "fig = plt.figure()\n",
    "ax = fig.add_subplot(111, projection='3d')\n",
    "ax.scatter(positions[:,0],positions[:,1],positions[:,2])\n",
    "plt.show()"
   ]
  }
 ],
 "metadata": {
  "kernelspec": {
   "display_name": "Python 2",
   "language": "python",
   "name": "python2"
  },
  "language_info": {
   "codemirror_mode": {
    "name": "ipython",
    "version": 2
   },
   "file_extension": ".py",
   "mimetype": "text/x-python",
   "name": "python",
   "nbconvert_exporter": "python",
   "pygments_lexer": "ipython2",
   "version": "2.7.11"
  }
 },
 "nbformat": 4,
 "nbformat_minor": 0
}
